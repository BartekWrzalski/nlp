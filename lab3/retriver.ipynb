{
 "cells": [
  {
   "cell_type": "code",
   "execution_count": 2,
   "metadata": {},
   "outputs": [],
   "source": [
    "from datasets import load_dataset\n",
    "from sentence_transformers import SentenceTransformer, util\n",
    "import faiss\n",
    "import numpy as np"
   ]
  },
  {
   "cell_type": "code",
   "execution_count": null,
   "metadata": {},
   "outputs": [],
   "source": [
    "# Załadowanie zbioru danych SQuAD z HuggingFace\n",
    "dataset = load_dataset(\"sentence-transformers/squad\")\n",
    "dataset"
   ]
  },
  {
   "cell_type": "code",
   "execution_count": null,
   "metadata": {},
   "outputs": [],
   "source": [
    "# Wykorzystanie modelu bi-enkodera: multi-qa-mpnet-base-dot-v1\n",
    "# Model generuje osadzenia (embeddings) zarówno dla pytań, jak i odpowiedzi\n",
    "model = SentenceTransformer(\"multi-qa-mpnet-base-dot-v1\")\n",
    "model"
   ]
  },
  {
   "cell_type": "code",
   "execution_count": null,
   "metadata": {},
   "outputs": [],
   "source": [
    "# Tworzenie osadzeń dla kolumny 'answer' (dokumenty)\n",
    "# Osadzenia będą używane do porównywania z zapytaniami\n",
    "answers = dataset['train']['answer']\n",
    "answer_embeddings = model.encode(answers, convert_to_tensor=True, show_progress_bar=True)"
   ]
  },
  {
   "cell_type": "code",
   "execution_count": null,
   "metadata": {},
   "outputs": [],
   "source": [
    "# Tworzenie osadzeń dla kolumny 'question' (zapytania)\n",
    "questions = dataset['train']['question']\n",
    "question_embeddings = model.encode(questions, convert_to_tensor=True, show_progress_bar=True)"
   ]
  },
  {
   "cell_type": "code",
   "execution_count": null,
   "metadata": {},
   "outputs": [],
   "source": [
    "# Funkcja do przeprowadzenia wyszukiwania bez indeksu FAISS\n",
    "def search_without_faiss(query, k=5):\n",
    "    # Tworzenie osadzenia dla zapytania\n",
    "    query_embedding = model.encode(query, convert_to_tensor=True)\n",
    "    \n",
    "    # Obliczanie podobieństwa kosinusowego między zapytaniem a odpowiedziami\n",
    "    scores = util.cos_sim(query_embedding, answer_embeddings)[0]\n",
    "    \n",
    "    # Sortowanie wyników według podobieństwa i wybór top_k wyników\n",
    "    top_results = np.argsort(-scores)[:k]\n",
    "    \n",
    "    # Zwracanie top_k wyników\n",
    "    return [(answers[idx], float(scores[idx])) for idx in top_results]"
   ]
  },
  {
   "cell_type": "code",
   "execution_count": null,
   "metadata": {},
   "outputs": [],
   "source": [
    "# Tworzenie indeksu FAISS dla osadzeń odpowiedzi\n",
    "dimension = answer_embeddings.shape[1]  # Rozmiar osadzeń\n",
    "faiss_index = faiss.IndexFlatIP(dimension)  # IP oznacza Inner Product (odpowiednik kosinusowego podobieństwa)\n",
    "faiss_index.add(answer_embeddings.cpu().numpy())  # Dodanie osadzeń do indeksu\n"
   ]
  },
  {
   "cell_type": "code",
   "execution_count": null,
   "metadata": {},
   "outputs": [],
   "source": [
    "# Funkcja do przeprowadzenia wyszukiwania z wykorzystaniem FAISS\n",
    "def search_with_faiss(query, k=5):\n",
    "    # Tworzenie osadzenia dla zapytania\n",
    "    query_embedding = model.encode(query, convert_to_tensor=False)\n",
    "    \n",
    "    # Wykorzystanie indeksu FAISS do znalezienia top_k wyników\n",
    "    distances, indices = faiss_index.search(query_embedding.reshape(1, -1), k)\n",
    "    \n",
    "    # Zwracanie top_k wyników\n",
    "    return [(answers[idx], float(distances[0][i])) for i, idx in enumerate(indices[0])]\n"
   ]
  },
  {
   "cell_type": "code",
   "execution_count": null,
   "metadata": {},
   "outputs": [],
   "source": [
    "# Funkcja do oceny skuteczności wyszukiwania\n",
    "def evaluate_retrieval(query, true_answer, results):\n",
    "    # Sprawdzanie, czy prawdziwa odpowiedź znajduje się w wynikach top_k\n",
    "    return int(any(true_answer == result[0] for result in results))"
   ]
  },
  {
   "cell_type": "code",
   "execution_count": null,
   "metadata": {},
   "outputs": [],
   "source": [
    "# Testowanie działania na kilku przykładach\n",
    "test_queries = dataset['test']['question'][:10]\n",
    "test_answers = dataset['test']['answer'][:10]\n",
    "\n",
    "# Porównanie wyników z i bez FAISS\n",
    "without_faiss_scores = []\n",
    "with_faiss_scores = []\n",
    "\n",
    "for query, true_answer in zip(test_queries, test_answers):\n",
    "    # Wyszukiwanie bez FAISS\n",
    "    results_without_faiss = search_without_faiss(query)\n",
    "    score_without_faiss = evaluate_retrieval(query, true_answer, results_without_faiss)\n",
    "    without_faiss_scores.append(score_without_faiss)\n",
    "    \n",
    "    # Wyszukiwanie z FAISS\n",
    "    results_with_faiss = search_with_faiss(query)\n",
    "    score_with_faiss = evaluate_retrieval(query, true_answer, results_with_faiss)\n",
    "    with_faiss_scores.append(score_with_faiss)\n",
    "\n",
    "# Obliczanie średniej skuteczności\n",
    "mean_score_without_faiss = np.mean(without_faiss_scores)\n",
    "mean_score_with_faiss = np.mean(with_faiss_scores)\n",
    "\n",
    "# Wyświetlenie wyników\n",
    "print(f\"Średnia skuteczność bez FAISS: {mean_score_without_faiss}\")\n",
    "print(f\"Średnia skuteczność z FAISS: {mean_score_with_faiss}\")"
   ]
  }
 ],
 "metadata": {
  "language_info": {
   "name": "python"
  }
 },
 "nbformat": 4,
 "nbformat_minor": 2
}
