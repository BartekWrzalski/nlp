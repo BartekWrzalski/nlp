{
 "cells": [
  {
   "cell_type": "code",
   "execution_count": 1,
   "metadata": {},
   "outputs": [],
   "source": [
    "import datasets\n",
    "from transformers import AutoTokenizer, AutoModel\n",
    "from dotenv import dotenv_values\n",
    "from openai import OpenAI"
   ]
  },
  {
   "cell_type": "markdown",
   "metadata": {},
   "source": [
    "## RAG"
   ]
  },
  {
   "cell_type": "markdown",
   "metadata": {},
   "source": [
    "### Dataset"
   ]
  },
  {
   "cell_type": "code",
   "execution_count": 64,
   "metadata": {},
   "outputs": [],
   "source": [
    "imdb = datasets.load_dataset(\"stanfordnlp/imdb\", cache_dir=\"/net/pr2/projects/plgrid/plggaigraphicsk46/.cache\")"
   ]
  },
  {
   "cell_type": "code",
   "execution_count": 65,
   "metadata": {},
   "outputs": [],
   "source": [
    "imdb = imdb[\"train\"]"
   ]
  },
  {
   "cell_type": "code",
   "execution_count": 66,
   "metadata": {},
   "outputs": [],
   "source": [
    "imdb = imdb.remove_columns([\"label\"])"
   ]
  },
  {
   "cell_type": "code",
   "execution_count": 67,
   "metadata": {},
   "outputs": [],
   "source": [
    "imdb = imdb.map(lambda x: {\"text_length\": len(x[\"text\"].split())})"
   ]
  },
  {
   "cell_type": "code",
   "execution_count": 68,
   "metadata": {},
   "outputs": [
    {
     "data": {
      "text/plain": [
       "Dataset({\n",
       "    features: ['text', 'text_length'],\n",
       "    num_rows: 24993\n",
       "})"
      ]
     },
     "execution_count": 68,
     "metadata": {},
     "output_type": "execute_result"
    }
   ],
   "source": [
    "imdb = imdb.filter(lambda x: x[\"text_length\"] > 15)\n",
    "imdb"
   ]
  },
  {
   "cell_type": "code",
   "execution_count": 61,
   "metadata": {},
   "outputs": [],
   "source": [
    "model_ckpt = \"sentence-transformers/multi-qa-mpnet-base-dot-v1\"\n",
    "tokenizer = AutoTokenizer.from_pretrained(model_ckpt, cache_dir=\"/net/pr2/projects/plgrid/plggaigraphicsk46/.cache\")\n",
    "model = AutoModel.from_pretrained(model_ckpt, cache_dir=\"/net/pr2/projects/plgrid/plggaigraphicsk46/.cache\")"
   ]
  },
  {
   "cell_type": "code",
   "execution_count": 62,
   "metadata": {},
   "outputs": [],
   "source": [
    "model = model.to(\"cuda\")"
   ]
  },
  {
   "cell_type": "code",
   "execution_count": 63,
   "metadata": {},
   "outputs": [],
   "source": [
    "def get_embeddings(texts):\n",
    "    encoded_input = tokenizer(texts, padding=True, truncation=True, return_tensors=\"pt\")\n",
    "    encoded_input = {k: v.to(\"cuda\") for k, v in encoded_input.items()}\n",
    "    model_output = model(**encoded_input)\n",
    "    return model_output.last_hidden_state[:, 0]"
   ]
  },
  {
   "cell_type": "code",
   "execution_count": 18,
   "metadata": {},
   "outputs": [
    {
     "data": {
      "text/plain": [
       "tensor([[ 8.3199e-02, -1.5071e-01,  9.8255e-02,  4.4446e-02, -3.1686e-01,\n",
       "          1.8682e-01, -2.9042e-01,  1.3492e-01, -2.3458e-01, -4.2669e-02,\n",
       "         -1.7268e-01,  1.0392e+00, -1.1429e-01,  4.9655e-01,  5.3812e-01,\n",
       "         -1.5356e-01, -1.7012e-01,  1.1264e+00, -5.3759e-01, -5.2373e-01,\n",
       "          5.0227e-01,  4.4956e-01, -3.2713e-02, -2.6857e-02,  1.0683e-01,\n",
       "         -5.9092e-01,  3.5564e-01,  3.0762e-01, -3.0808e-01,  5.6195e-01,\n",
       "          1.4137e-02, -5.9447e-01, -3.9890e-01, -2.7629e-01,  3.8616e-01,\n",
       "         -1.0317e-01,  2.8774e-01,  1.1236e-01, -2.4730e-01,  4.4272e-03,\n",
       "          2.1356e-01,  4.2738e-01,  1.4895e-01,  2.8548e-01,  5.0963e-01,\n",
       "         -2.3894e-01, -7.8339e-01,  1.2078e-01, -1.2966e-01, -3.0228e-01,\n",
       "          3.0922e-01, -5.1364e-01,  4.3015e-01, -6.8773e-02, -4.3012e-02,\n",
       "          7.9915e-01,  1.8918e-01,  2.4105e-02,  7.0270e-01,  5.4920e-01,\n",
       "          1.0149e-02, -4.8151e-01, -6.2601e-01,  9.2661e-02,  2.1179e-01,\n",
       "          2.9671e-01,  2.7568e-01, -9.8402e-01, -3.8592e-02, -5.6175e-02,\n",
       "         -2.7076e-01, -4.1522e-01,  3.4913e-01, -5.2286e-01, -4.5174e-02,\n",
       "         -2.0646e-01,  1.7563e-01,  6.5867e-02, -8.9837e-02,  3.4546e-01,\n",
       "         -6.0536e-02,  4.1962e-01,  5.5416e-01, -2.4321e-01, -2.6068e-01,\n",
       "         -7.0616e-02, -9.6049e-02,  2.9943e-01, -3.0077e-01,  8.1469e-01,\n",
       "         -7.3435e-02,  6.5705e-02,  4.0627e-01, -3.8376e-01, -7.3133e-01,\n",
       "          1.4510e-01,  8.6069e-02, -2.7426e-01,  2.7041e-01,  3.5573e+00,\n",
       "          9.7954e-02, -5.2106e-02,  3.8225e-01, -3.2964e-02,  3.5614e-01,\n",
       "         -6.6300e-02, -5.0450e-01, -9.4336e-02, -2.7778e-01, -3.2954e-02,\n",
       "          2.6900e-01,  7.6420e-02,  1.3460e-02,  5.1009e-01, -4.9303e-01,\n",
       "          7.1769e-01, -3.9348e-01,  2.0537e-01,  2.7323e-01,  7.0258e-01,\n",
       "          9.3919e-02, -3.5332e-02,  7.0624e-01,  2.1732e-01,  2.3171e-01,\n",
       "          1.8216e-02,  2.4741e-01, -2.7279e-01, -1.7496e-01, -6.8739e-01,\n",
       "         -1.2060e-01,  3.5473e-01,  2.7688e-01, -1.1149e-01, -2.4272e-01,\n",
       "         -5.1123e-01,  1.5138e-01,  9.9570e-02,  1.4975e-01, -2.5723e-01,\n",
       "         -8.4142e-01, -7.5885e-01,  6.5650e-02, -7.6498e-01,  7.6011e-02,\n",
       "          5.0968e-01, -1.9359e-01, -9.1641e-02,  1.2749e-01, -2.1085e-01,\n",
       "          6.4622e-01, -4.2320e-01,  3.8573e-01,  2.4689e-01,  4.6163e-01,\n",
       "         -4.5789e-01,  3.0947e-01, -5.1748e-01,  5.3884e-02,  4.3926e-01,\n",
       "         -3.6473e-01,  4.2806e-02,  8.1274e-02,  1.6376e-01,  1.6577e-01,\n",
       "          9.6846e-01,  1.5516e-01, -5.5239e-02,  1.2020e-01,  5.0894e-01,\n",
       "         -2.7612e-01,  4.0407e-01,  7.0246e-01, -1.1451e-01,  1.8076e-02,\n",
       "          2.8171e-01,  7.6698e-01,  4.3194e-01, -2.5463e-01,  4.8898e-01,\n",
       "          2.1679e-01,  1.4340e-01,  1.6525e-01, -1.3688e-01, -8.1828e-02,\n",
       "          5.6830e-01, -1.2437e-01,  3.3299e-01,  1.6745e-01,  2.3203e-02,\n",
       "         -4.4824e-01, -1.2706e-01, -1.2511e-01,  2.5786e-01,  7.3029e-03,\n",
       "         -8.9233e-01,  5.4472e-02,  7.4740e-01, -5.8665e-01,  1.3078e-01,\n",
       "          5.6241e-01, -4.3884e-01, -2.0650e-01, -6.8471e-01, -8.4413e-01,\n",
       "         -1.6150e-01, -1.8442e-01, -1.9536e-01,  3.1254e-01, -1.8536e-01,\n",
       "          2.9883e-01, -1.6043e-01, -7.5971e-02, -6.0277e-01, -5.9641e-01,\n",
       "         -1.5575e-01,  4.1033e-03, -3.3939e-01, -6.6359e-01,  3.8001e-02,\n",
       "         -2.7759e-01,  1.1920e-01, -6.9648e-01, -1.5478e+00, -5.6230e-01,\n",
       "          5.5393e-01, -3.9275e-02,  7.2645e-02, -3.0296e-03, -2.2253e-02,\n",
       "          1.7107e-01, -7.1542e-01,  2.9068e-01,  2.4889e-01, -5.6343e-01,\n",
       "         -1.2111e-01,  5.2447e-02,  6.7192e-01, -7.4616e-02, -1.9266e-01,\n",
       "          5.8232e-01, -2.9823e-01, -4.2782e-01,  1.4887e-01,  6.9565e-02,\n",
       "          1.0594e-02, -1.3116e-01,  9.8529e-03,  2.4579e-01, -2.9691e-01,\n",
       "          7.0783e-01,  2.1581e-01,  5.2596e-01, -3.4974e-01, -2.9110e-01,\n",
       "         -2.8450e-01, -9.0399e-01, -7.5865e-01, -1.6547e-02, -1.7598e-01,\n",
       "          4.1762e-01,  5.7754e-01,  2.9599e-01, -2.4567e-01,  4.3057e-01,\n",
       "         -1.6466e-02, -7.0814e-01, -8.3998e-01, -8.7711e-02,  2.6298e-02,\n",
       "         -2.9011e-01,  4.5563e-01, -1.7587e-01,  2.1911e-03,  4.3426e-01,\n",
       "         -3.2500e-01,  2.4704e-01, -4.1659e-01, -3.1585e-01,  2.8350e-02,\n",
       "          3.4286e-01,  2.1671e-01,  5.2349e-01, -2.5349e-01, -1.0050e-01,\n",
       "          5.0576e-01,  1.0722e-02,  1.3493e-01, -4.7519e-01, -1.9473e-02,\n",
       "          4.5820e-01,  1.1985e-01, -4.2515e-01,  3.6335e-02, -1.5770e-01,\n",
       "          2.5399e-01,  5.0325e-01,  9.5283e-02,  9.6565e-02, -4.8165e-03,\n",
       "         -1.9501e-01, -5.3335e-02,  3.5332e-01,  1.2294e-01, -9.3764e-02,\n",
       "         -8.0777e-01,  1.2156e-01,  5.9171e-02,  6.5684e-01, -1.1247e-01,\n",
       "          5.3694e-01,  4.0583e-01,  5.3510e-01,  4.0564e-01, -1.9738e-01,\n",
       "          3.6832e-01, -1.8584e-01,  1.1813e-01, -2.3956e-01, -7.9382e-01,\n",
       "         -1.5322e-01, -6.4533e-01,  4.3904e-01,  3.9831e-01,  7.0741e-01,\n",
       "          1.3579e-01, -1.7583e-01,  2.4342e-01, -1.3950e-02, -5.8650e-02,\n",
       "          1.2402e-01,  7.3555e-01,  9.7842e-02,  6.6652e-02, -4.2575e-01,\n",
       "         -5.2397e-01,  2.8641e-01,  5.4397e-01, -5.9756e-01,  1.7457e-01,\n",
       "         -9.8268e-01,  5.1927e-01,  6.3696e-02,  8.8697e-03, -1.6439e-02,\n",
       "         -2.3568e-01,  9.9736e-03, -5.9436e-01,  5.3812e-01,  7.4866e-01,\n",
       "          2.0937e-01,  6.0507e-01,  1.2518e-01,  1.6709e-02,  7.5298e-01,\n",
       "          3.5580e-01,  1.8169e-01,  5.8997e-01,  4.0013e-01,  3.9195e-01,\n",
       "          1.7909e-01,  3.8206e-01, -2.3372e-01,  1.1064e+00, -2.7155e-01,\n",
       "         -4.8926e-01, -5.5972e-01,  4.2428e-02, -3.1849e-01, -4.8185e-02,\n",
       "          2.8039e-01,  4.1531e-01, -6.9074e-01,  4.8072e-01,  5.5691e-01,\n",
       "         -3.3265e-01, -4.7124e-02, -3.6626e-01, -3.7059e-01,  2.8635e-01,\n",
       "         -1.2830e-01,  3.4387e-03,  2.0618e-01,  3.7884e-02]], device='cuda:0',\n",
       "       grad_fn=<SelectBackward0>)"
      ]
     },
     "execution_count": 18,
     "metadata": {},
     "output_type": "execute_result"
    }
   ],
   "source": [
    "get_embeddings(imdb[\"text\"][1])"
   ]
  },
  {
   "cell_type": "code",
   "execution_count": 69,
   "metadata": {},
   "outputs": [
    {
     "data": {
      "application/vnd.jupyter.widget-view+json": {
       "model_id": "a0db65d3f55f4fe8b7ee2f5a3eb25a33",
       "version_major": 2,
       "version_minor": 0
      },
      "text/plain": [
       "Map:   0%|          | 0/24993 [00:00<?, ? examples/s]"
      ]
     },
     "metadata": {},
     "output_type": "display_data"
    }
   ],
   "source": [
    "imdb = imdb.map(\n",
    "    lambda x: {\"embeddings\": get_embeddings(x[\"text\"]).detach().cpu().numpy()[0]}\n",
    ")"
   ]
  },
  {
   "cell_type": "code",
   "execution_count": 70,
   "metadata": {},
   "outputs": [
    {
     "data": {
      "application/vnd.jupyter.widget-view+json": {
       "model_id": "05db9d55cc564d77bd8d4788f736c7cb",
       "version_major": 2,
       "version_minor": 0
      },
      "text/plain": [
       "Saving the dataset (0/1 shards):   0%|          | 0/24993 [00:00<?, ? examples/s]"
      ]
     },
     "metadata": {},
     "output_type": "display_data"
    }
   ],
   "source": [
    "# Save imdb to pickle\n",
    "imdb.save_to_disk(\"imdb_embeddings_2\")"
   ]
  },
  {
   "cell_type": "code",
   "execution_count": 72,
   "metadata": {},
   "outputs": [],
   "source": [
    "# Load imdb from pickle\n",
    "imdb = datasets.load_from_disk(\"imdb_embeddings_2\")"
   ]
  },
  {
   "cell_type": "code",
   "execution_count": null,
   "metadata": {},
   "outputs": [],
   "source": [
    "imdb[0]"
   ]
  },
  {
   "cell_type": "code",
   "execution_count": 73,
   "metadata": {},
   "outputs": [
    {
     "data": {
      "application/vnd.jupyter.widget-view+json": {
       "model_id": "eef17af7d8674d12860ffe364b8d176a",
       "version_major": 2,
       "version_minor": 0
      },
      "text/plain": [
       "  0%|          | 0/25 [00:00<?, ?it/s]"
      ]
     },
     "metadata": {},
     "output_type": "display_data"
    },
    {
     "data": {
      "text/plain": [
       "Dataset({\n",
       "    features: ['text', 'text_length', 'embeddings'],\n",
       "    num_rows: 24993\n",
       "})"
      ]
     },
     "execution_count": 73,
     "metadata": {},
     "output_type": "execute_result"
    }
   ],
   "source": [
    "import numpy as np\n",
    "\n",
    "\n",
    "imdb.add_faiss_index(column=\"embeddings\")"
   ]
  },
  {
   "cell_type": "markdown",
   "metadata": {},
   "source": [
    "### API"
   ]
  },
  {
   "cell_type": "code",
   "execution_count": 74,
   "metadata": {},
   "outputs": [],
   "source": [
    "env = dotenv_values(\"/net/people/plgrid/plgjwasala/nlp/lab3/.env\")"
   ]
  },
  {
   "cell_type": "code",
   "execution_count": 75,
   "metadata": {},
   "outputs": [],
   "source": [
    "client = OpenAI(api_key=env[\"TOKEN\"], base_url=env[\"URL\"])"
   ]
  },
  {
   "cell_type": "markdown",
   "metadata": {},
   "source": [
    "### Completions"
   ]
  },
  {
   "cell_type": "code",
   "execution_count": 76,
   "metadata": {},
   "outputs": [],
   "source": [
    "def find_similar(query, k=5):\n",
    "    query_embedding = get_embeddings([query]).detach().cpu().numpy()\n",
    "    _, samples = imdb.get_nearest_examples(\"embeddings\", query_embedding, k=k)\n",
    "    return samples"
   ]
  },
  {
   "cell_type": "code",
   "execution_count": 77,
   "metadata": {},
   "outputs": [
    {
     "data": {
      "text/plain": [
       "[\"Please avoid this movie at all costs. This is without a doubt, the worst movie I've ever seen. Most movies have at least one redeeming value. This has none. Totally horrible!\",\n",
       " \"I was really disappointed in this movie. Those that voted this thing a 10 have a screw lose. The acting was ok, kinda wooden and cardboard. The ending was sorry. I just didn't care for this at all.<br /><br />No way could I recommend this mess.\",\n",
       " \"<br /><br />What an absolutely crappy film this is. How or why this movie was made and what the hell Billy Bob Thornton and Charlize Theron were doing signing up for this mediocre waste of time is beyond me. Strong advise for anyone sitting down to catch a flick: DO NOT waste your time on this 'film'.\",\n",
       " 'no comment - stupid movie, acting average or worse... screenplay - no sense at all... SKIP IT!',\n",
       " 'James Cameron\\'s \\'Titanic\\' is essentially a romantic adventure with visual grandeur and magnificence, a timeless tragic love story set against the background of this major historical event... It\\'s an astonishing movie that exemplifies hope, love and humanity... <br /><br />Leonardo DiCaprio is terrific on screen with big charisma... Conveying passion, trust, insouciance and ingenuity, he\\'s a free-spirited wanderer with artistic pretensions, and a zest for life... <br /><br />Kate Winslet is absolutely lovely as the confused upper-class teen engaged to a nasty rich guy who finds herself, one night, plunged to the depths of despair...<br /><br />Billy Zane is an arrogant racist, abusive and ultra rich who would lie, cheat, steal, bribe with money or even use an innocent young child to escape defeat... He keeps a 56 carat blue diamond worn by Louis XVI...<br /><br />Kathy Bates is the legendary unsinkable Molly Brown, the richest woman in Denver, who is a lot less uptight than the other rich folk on the ship...<br /><br />Frances Fisheris is the impecunious cold snobbish mother who, deathly afraid of losing her social stature, forces her daughter to become engaged to marry a rich, supercilious snob...<br /><br />Victor Garber is the master shipbuilder, the real-life character who attempts to fix time, to measure it, in a sense, to make it into history... <br /><br />Jonathan Hyde is the White Star Chairman who wants the Titanic to break the Trans-Atlantic speed record, in spite of warnings that icebergs may have floated into the hazardous northern crossing...<br /><br />Bill Paxton is the opportunistic undersea explorer in search for a very rare diamond called the \"Heart of the Ocean.\" <br /><br />Gloria Stuart is the 101-year old woman who reveals a never-before told love story... The nightmare, the horror and the shock are imprinted upon her deeply lined face... <br /><br />\\'Titanic\\' is loaded with luminous photography and sweeping visuals as the footage of the shipwrecked Ocean liner lying motionless on the ocean floor; the incredible transformation of the bow of the sunken \\'Titanic\\' that takes the viewer back to 1912, revealing the meticulously re-created interiors; the first sight of the Titanic steamed steadily toward her date with destiny; the Titanic, leaving the Southampton dock, and some dolphins appear jumping, racing along in front of the luxurious ship; DeCaprio and Winslet flying at the ship\\'s front rail in a gorgeous magic moment; the intertwining of past and present as Jack was drawing Rose on his paper, the camera zooms closely on young Rose\\'s eye, only to transform its shape into Gloria Stuart\\'s aged eye...<br /><br />Chilling scenes: Titanic\\'s inevitable collision with destiny; James Cameron\\x97in one of the most terrifying sequences ever put on film\\x97 takes us down with the Titanic, finally leaving us floundering in the icy water, screaming for help that never comes...<br /><br />Winner of 11 Academy Awards, including Best Picture, James Cameron\\'s \"Titanic\" is a gigantic epic where you don\\'t just watch the film, you experience it! The visual effects are amazing, like no other film\\'s... The decor is overwhelming... James Horner\\'s music intensifies the emotions... The whole movie is hunting and involving, filled with a wide range of deep feelings... <br /><br />It\\'s truly a moving tribute to those who lost their lives on that unfortunate ship...',\n",
       " \"This film is the worst film I have ever seen. The story line is weak - I couldn't even follow it. The acting is high-schoolish. The sound track is irritating. The attempts at humor are not. The editing is horrible. The credits are even slow - I would be embarrassed to have my name associated with this waste of film. Don't waste your time even thinking about this attempt at acting.\",\n",
       " 'This is one of the worst movies I have ever seen! I saw it at the Toronto film festival and totally regret wasting my time. Completely unwatchable with no redeeming qualities whatsoever.<br /><br />Steer clear.',\n",
       " \"I can't believe they got the actors and actresses of that caliber to do this movie. That's all I've got to say - the movie speaks for itself!!\",\n",
       " 'Every once in a while the conversation will turn to \"favorite movies.\" I\\'ll mention Titanic, and at least a couple people will snicker. I pay them no mind because I know that five years ago, these same people were moved to tears by that very movie. And they\\'re too embarrassed now to admit it.<br /><br />I just rewatched Titanic for the first time in a long time. Expecting to simply enjoy the story again, I was surprised to find that the movie has lost none of its power over these five years. I cried again.... in all the same places. It brought me back to 1997 when I can remember how a movie that no one thought would break even became the most popular movie of all time. A movie that burst into the public consciousness like no other movie I can recall (yes, even more than Star Wars). And today, many people won\\'t even admit they enjoyed it. Folks, let\\'s get something straight -- you don\\'t look cool when you badmouth this film. You look like an out of touch cynic.<br /><br />No movie is perfect and this one has a few faults. Some of the dialogue falls flat, and some of the plot surrounding the two lovers comes together a little too neatly. However, none of this is so distracting that it ruins the film.<br /><br />Leonardo DiCaprio and Kate Winslet are wonderful. Leo is one of the fine actors of his generation. Wait \\'til you see him in Gangs of New York before you call him nothing more than a pretty boy. Kate Winslet was so strong in this film. The movie really was hers, and she held it together beautifully.<br /><br />James Cameron managed what many believed was impossible by recreating a completely believable Titanic. The sinking scenes were horrific, just as they were that night. How anyone can say the effects were bad is beyond me. I was utterly transfixed.<br /><br />This film is one memorable scene after another. Titanic leaving port in Southampton. Rose and Jack at the bow, \"flying\". \"Iceberg, right ahead!\" The screws hanging unbelievably out of the ocean. The screams of the doomed after she went down. And that ending that brought even the burliest man in the theater to tears.<br /><br />The music, which has also been a victim of the film\\'s success, was a key ingredient. James Horner\\'s score was simply perfect. And the love theme was beautiful and tragic. Too bad Celine Dion\\'s pop song version had to destroy this great bit of music for so many.<br /><br />I confess, I am a Titanic buff. As such, I relished the opportunity to see the ship as we never got to see it -- in all its beauty. Perhaps watching it sink affected me more than some because I\\'ve had such an interest in the ship all my life. However, I doubt many of those I saw crying were Titanic buffs. I applaud Cameron for bringing this story to the masses in a way that never demeaned the tragedy. The film was made with such humanity.<br /><br />Another reviewer said it better than I ever could: Open up your hearts to Titanic, and you will not be disappointed.',\n",
       " \"Titanic directed by James Cameron presents a fictional love story on the historical setting of the Titanic. The plot is simple, noncomplicated, or not for those who love plots that twist and turn and keep you in suspense. The end of the movie can be figured out within minutes of the start of the film, but the love story is an interesting one, however. Kate Winslett is wonderful as Rose, an aristocratic young lady betrothed by Cal (Billy Zane). Early on the voyage Rose meets Jack (Leonardo DiCaprio), a lower class artist on his way to America after winning his ticket aboard Titanic in a poker game. If he wants something, he goes and gets it unlike the upper class who are so concerned with their social worries. The two fall in love and the audience sees the sinking of the Titanic primarily through their eyes.<br /><br />The movie begins in modern times with the exploration of the wreck by a group searching for treasures, that sunk with the Titanic, which has recently occurred. One of the survivors of the Titanic, Rose DeWitt Bukater, who had heard of the exploration of the wreck on television and is flown to the boat where the search is being led from to tell of what she remembers to help the search. She gets to telling her memory of the one and only voyage of the Titanic. With this, the scene shifts to Southhampton, Ireland where the Titanic set sail from on April 10, 1912 as all the passengers are boarding. After another stop on the Irish coast Titanic went out to see on its maiden voyage across the Atlantic bound for New York. Historically the first few days of the voyage went by uneventful, but the fictional plot of the story is developed during this time as Rose sees the hopeless entrapement of an engagement that she is in to the wealthy Cal Hockley and falls in love with third class passenger, Jack Dawson. Captain Smith alledgedly as shown in the movie was urged by the White Star Line Director to increase the speed of the ship so they would make the newspaper headlines and receive extra publicity by arriving in New York on Thursday night and not on Friday morning as planned. Smith then ordered the fateful decision going against his thirty-two years of experience to stretch the Titanic's legs out to full speed. The Titanic had reports that the waters in the Atlantic they were sailing in were full of icebergs, but they ignored these warnings and proceeded at full speed as shown in the movie. On April 15, 1912 at 11:39, an iceberg was sighted. They attempted to shut off the engines and turn the ship out of the path of the iceberg but there was not enough time and the ship hit the iceberg on the starboard side as depicted in the film. The portrayal of the many small holes in the side of the ship and not one large gash along the side is accurate. The crew of Titanic sent out distress calls and set off distress rockets as shown until 2:18 when the lights finally failed. The lights of the California were spotted six miles away but they failed to realize what was going on and did not respond to Titanic's many pleas for help. The California had tried earlier in the day to warn Titanic of the severe ice that had caused them to stop their trip but Titanic had brushed them off causing the California to turn off its radio and leave the Titanic on its own. The first class women and children were the first as depicted to be put into the twenty lifeboats that were on the ship. Overwhelmingly the third class passengers suffered the most amount of deaths of any class and the crew was hit hard in this tragedy too. The word of White Star Line employees and first class passengers was believed over that of second and third class passengers when authorities were trying to gain information of the sinking. Also, the metal that was used to build the Titanic has been found in recent years under conditions of severe cold, which were experienced the night Titanic sank to be extremely brittle. Overall, the basic plot is very accurate in its portayal of the events and the times at which these events took place on the Titanic.<br /><br />Many of the characters in the story were not real and created simply for the purpose of the movie or as composite characters to represent possible characteristics and ideas of people on the ship. The core group of Rose, Jack, Cal, and Rose's mother all were fictional characters added into the story as they represent different groups of people from the time. Yet many characters such as the Unsinkable Molly Brown; Captain Edward Smith; the ship designer, Thomas Andrew; the White Star Line Representative, Bruce Ismay; and all of the Titanic's officers were real. The maiden voyage was going to be Captain Edward Smith's last voyage anyway as he planned to retire afterwards. He had been a part of the White Star Line since 1880 where he worked his way up to his status as the Millionaire's Captain when the Titanic sunk. The portrayals of the officers is accurate as only four survived the tragedy except for the officer who threatened to kill all of the passengers of the ship with his pistol. He is on record as acting heroicly and was misportrayed to the point that James Cameron apologized and evoked a monument in his honor in the officer's former Canadian hometown. As shown in the movie there was a language problem between the crew and many of the lower-class passengers from non-English speaking nations. In addition, Officer Lowe was the only officer who came back in the lifeboat as depicted. The old people shown in their bed as the water came in their room were based on the Strauss'. Not wanting to leave her husband's side Mrs. Strauss refused to get in her lifeboat and died with her husband on the Titanic. Furthermore, Mr. Goggenheim who was shown sipping his brandy and smoking a cigar reportedly did go out like this dressed in his best. The richest man on the ship, John Jacob Astor, who owned most of Manhattan died nonetheless as well, but his much younger wife was saved in a lifeboat. In addition, Molly Brown was saved and later had medals made up for the crew of the Carpethia that picked the survivors of Titanic up from the water. Her ticket on the Titanic had cost over four-thousand dollars and by the end of her life she ended up broke. All of the interiors of the ship were masterfully replacated down to the last pieces of china and silverware. The gymnasium, which is hardly seen is recreated perfectly with all of the machines reproduced to match those seen in old photographs. The wonderful outfits and costuming were an excellent re-creation of the Post-Victorian era of 1912. The rich at this time practically ruled everything, as the women's suffrage movement had not quite gotten moving yet. Women during this time often married for financial security as Rose was considering doing and normally took a back seast status to their husbands as Cal wished for Rose to do. The rich did not take well to `new money' such as Molly Brown as depicted. Everything of the time was very formal. Women had to be escorted to dinner by a male figure as seen with in the dining scenes. Smoking was not very common among women of the time but holders of cigarettes, which were just coming in at the time were used as seen with Rose in the movie. Men of the time generally smoked cigars not cigarettes. Women were constained physically by their corsets and socially by society. Although James Cameron had no background in historical films he brought in experts of Titanic coupled with two years spent cross-referencing the history of the Titanic and few liberties were taken. The beautiful cinematography and special effects also helped to make the film even more breathtaking.<br /><br />A recognizable message can be seen in the movie Titanic as the people on the ship had about three hours to contemplate their demise. The director, James Cameron, shows the various reactions to this time of crisis in people's lives. Everyone reacts differently and he gets you to think of how you might have reacted had you been in that situation on the Titanic on that fateful night. In addition, this film is a reflection of the 1990's when it was produced as it gives a look into the wreck of the Titanic. Only in the past fifteen years has the site of the actual Titanic been found and explored. This movie was able to give us a deeper look into a disaster that many would not have viewed. However, the moral question of whether people today should be taking treasures from the wreck of an underwater graveyard is posed. There have been attempts to stop treasure seeking missions such as the one portrayed in Titanic but all have failed. As it stands today anyone can make a voyage to the Titanic and take whatever valuables they as portrayed in the film showing the general values of our time on this matter.<br /><br />Technically the film is very well done. To get footage of the wreck at the bottom of the ocean it took twelve dives to get all of the footage needed for the movie. In addition, a special camera had to be created to withstand the intense pressure at the bottom of the ocean. Cameron did not plan on using the probe to go as far inside Titanic as anyone has in the 88 years since the ship sunk but it worked out that this provided an unique perspective into the ship. Furthermore, throughout the film fade ins and outs from the wreck of Titanic to the scene of Titanic during its actual voyage. This shift between the modern scene to the past scene during the voyage works as an excellent transition that makes the story easy to follow in aclear manner. At the very beginning of the movie a septune recreation is used to recreate the scene when the actual people left the European coast on Titanic giving it distinction from the rest of the events of the film.<br /><br />Titanic plays almost like a historical biography and is like a work of art, a true epic. Like most history novels, we know the ending, but it doesn't take away from the wonderful treats that can be found in this picture. Certain aspects of this film are Academy Award material including costuming, sound, cintematography, and editing. If you like interesting characters that will give you an insight into the life of characters in the early 1900's and how they face disaster, then this movie definitely is for you.<br /><br />\",\n",
       " \"People, please don't bother to watch this movie! This movie is bad! It's totally waste of time. I don't see any point here. It's a Stupid film with lousy plot and the acting is poor. I rather get myself beaten than watch this movie ever again.\",\n",
       " '<br /><br />I watched this movie just a little while ago and I found that this movie was terrible! It moved very slowly and was hardly entertaining!<br /><br />Sorry for all those that liked it.... this is only my opinion!',\n",
       " \"A cheesy, compellingly awful (and NOT in a fun way) C Grade movie. Everything shouts 'amateur', from the crumby script (bizarre premises, limited coherence and predictable endings; the turgid lighting, sound and hand-held wobbly camera angles; the coy and passe sexual inneundo and references; the patchy and unbelievable dialgoue to the Z rate acting. I saw it on DVD and kept hoping Edward Wood would pop out. All is forgiven - your Worst Films are works of art, and more coherent than this twaddle.<br /><br />But still, preferable to the warbling 'Every night in my dreams I hear you' - are you sure the Titanic crew weren't involved in this on the side?\",\n",
       " 'be warned: this movie tells lots of love stories without any coherence.<br /><br />The only intention of this movie seems to be showing love in many different ways.<br /><br />Each story has only a few minutes, so there is no development of characters and nearly no plot. Just an sketchy idea of a plot. The writer tried to build in turning points that aimed to surprise the viewer. However, that just didn\\'t work out because you didn\\'t get to know the characters in before or these \"jokes\" were just silly.<br /><br />This is a movie about love that fails to reach your heart. A dozen times. Or even more, I don\\'t know and I don\\'t care.',\n",
       " \"This was one of the worst movies i have ever seen. The plot is awful, and the acting is worse. The jokes that are attempted absolutley suck. Don't bother to waste your time on a dumb movie such as this. And if for some reason that you do want to see this movie, don't watch it with your parents.\"]"
      ]
     },
     "execution_count": 77,
     "metadata": {},
     "output_type": "execute_result"
    }
   ],
   "source": [
    "find_similar(\"What actors are in Titanic?\", k=15)[\"text\"]"
   ]
  },
  {
   "cell_type": "code",
   "execution_count": 79,
   "metadata": {},
   "outputs": [],
   "source": [
    "prompt = \"\"\"Answer the question based only on the following context: {context}.\n",
    "Question: {question}\n",
    "\"\"\""
   ]
  },
  {
   "cell_type": "code",
   "execution_count": 80,
   "metadata": {},
   "outputs": [],
   "source": [
    "def get_completion(question, k):\n",
    "    samples = find_similar(question, k)\n",
    "\n",
    "    question_prompt = prompt.format(context=samples[\"text\"], question=question)\n",
    "    completion = client.chat.completions.create(\n",
    "        model=\"gpt-3.5\", messages=[{\"role\": \"user\", \"content\": question_prompt}]\n",
    "    )\n",
    "    return completion"
   ]
  },
  {
   "cell_type": "code",
   "execution_count": 88,
   "metadata": {},
   "outputs": [
    {
     "name": "stdout",
     "output_type": "stream",
     "text": [
      "Context for 'What actors are in Titanic?':\n"
     ]
    },
    {
     "data": {
      "text/plain": [
       "[\"Please avoid this movie at all costs. This is without a doubt, the worst movie I've ever seen. Most movies have at least one redeeming value. This has none. Totally horrible!\",\n",
       " \"I was really disappointed in this movie. Those that voted this thing a 10 have a screw lose. The acting was ok, kinda wooden and cardboard. The ending was sorry. I just didn't care for this at all.<br /><br />No way could I recommend this mess.\",\n",
       " \"<br /><br />What an absolutely crappy film this is. How or why this movie was made and what the hell Billy Bob Thornton and Charlize Theron were doing signing up for this mediocre waste of time is beyond me. Strong advise for anyone sitting down to catch a flick: DO NOT waste your time on this 'film'.\",\n",
       " 'no comment - stupid movie, acting average or worse... screenplay - no sense at all... SKIP IT!',\n",
       " 'James Cameron\\'s \\'Titanic\\' is essentially a romantic adventure with visual grandeur and magnificence, a timeless tragic love story set against the background of this major historical event... It\\'s an astonishing movie that exemplifies hope, love and humanity... <br /><br />Leonardo DiCaprio is terrific on screen with big charisma... Conveying passion, trust, insouciance and ingenuity, he\\'s a free-spirited wanderer with artistic pretensions, and a zest for life... <br /><br />Kate Winslet is absolutely lovely as the confused upper-class teen engaged to a nasty rich guy who finds herself, one night, plunged to the depths of despair...<br /><br />Billy Zane is an arrogant racist, abusive and ultra rich who would lie, cheat, steal, bribe with money or even use an innocent young child to escape defeat... He keeps a 56 carat blue diamond worn by Louis XVI...<br /><br />Kathy Bates is the legendary unsinkable Molly Brown, the richest woman in Denver, who is a lot less uptight than the other rich folk on the ship...<br /><br />Frances Fisheris is the impecunious cold snobbish mother who, deathly afraid of losing her social stature, forces her daughter to become engaged to marry a rich, supercilious snob...<br /><br />Victor Garber is the master shipbuilder, the real-life character who attempts to fix time, to measure it, in a sense, to make it into history... <br /><br />Jonathan Hyde is the White Star Chairman who wants the Titanic to break the Trans-Atlantic speed record, in spite of warnings that icebergs may have floated into the hazardous northern crossing...<br /><br />Bill Paxton is the opportunistic undersea explorer in search for a very rare diamond called the \"Heart of the Ocean.\" <br /><br />Gloria Stuart is the 101-year old woman who reveals a never-before told love story... The nightmare, the horror and the shock are imprinted upon her deeply lined face... <br /><br />\\'Titanic\\' is loaded with luminous photography and sweeping visuals as the footage of the shipwrecked Ocean liner lying motionless on the ocean floor; the incredible transformation of the bow of the sunken \\'Titanic\\' that takes the viewer back to 1912, revealing the meticulously re-created interiors; the first sight of the Titanic steamed steadily toward her date with destiny; the Titanic, leaving the Southampton dock, and some dolphins appear jumping, racing along in front of the luxurious ship; DeCaprio and Winslet flying at the ship\\'s front rail in a gorgeous magic moment; the intertwining of past and present as Jack was drawing Rose on his paper, the camera zooms closely on young Rose\\'s eye, only to transform its shape into Gloria Stuart\\'s aged eye...<br /><br />Chilling scenes: Titanic\\'s inevitable collision with destiny; James Cameron\\x97in one of the most terrifying sequences ever put on film\\x97 takes us down with the Titanic, finally leaving us floundering in the icy water, screaming for help that never comes...<br /><br />Winner of 11 Academy Awards, including Best Picture, James Cameron\\'s \"Titanic\" is a gigantic epic where you don\\'t just watch the film, you experience it! The visual effects are amazing, like no other film\\'s... The decor is overwhelming... James Horner\\'s music intensifies the emotions... The whole movie is hunting and involving, filled with a wide range of deep feelings... <br /><br />It\\'s truly a moving tribute to those who lost their lives on that unfortunate ship...',\n",
       " \"This film is the worst film I have ever seen. The story line is weak - I couldn't even follow it. The acting is high-schoolish. The sound track is irritating. The attempts at humor are not. The editing is horrible. The credits are even slow - I would be embarrassed to have my name associated with this waste of film. Don't waste your time even thinking about this attempt at acting.\",\n",
       " 'This is one of the worst movies I have ever seen! I saw it at the Toronto film festival and totally regret wasting my time. Completely unwatchable with no redeeming qualities whatsoever.<br /><br />Steer clear.',\n",
       " \"I can't believe they got the actors and actresses of that caliber to do this movie. That's all I've got to say - the movie speaks for itself!!\",\n",
       " 'Every once in a while the conversation will turn to \"favorite movies.\" I\\'ll mention Titanic, and at least a couple people will snicker. I pay them no mind because I know that five years ago, these same people were moved to tears by that very movie. And they\\'re too embarrassed now to admit it.<br /><br />I just rewatched Titanic for the first time in a long time. Expecting to simply enjoy the story again, I was surprised to find that the movie has lost none of its power over these five years. I cried again.... in all the same places. It brought me back to 1997 when I can remember how a movie that no one thought would break even became the most popular movie of all time. A movie that burst into the public consciousness like no other movie I can recall (yes, even more than Star Wars). And today, many people won\\'t even admit they enjoyed it. Folks, let\\'s get something straight -- you don\\'t look cool when you badmouth this film. You look like an out of touch cynic.<br /><br />No movie is perfect and this one has a few faults. Some of the dialogue falls flat, and some of the plot surrounding the two lovers comes together a little too neatly. However, none of this is so distracting that it ruins the film.<br /><br />Leonardo DiCaprio and Kate Winslet are wonderful. Leo is one of the fine actors of his generation. Wait \\'til you see him in Gangs of New York before you call him nothing more than a pretty boy. Kate Winslet was so strong in this film. The movie really was hers, and she held it together beautifully.<br /><br />James Cameron managed what many believed was impossible by recreating a completely believable Titanic. The sinking scenes were horrific, just as they were that night. How anyone can say the effects were bad is beyond me. I was utterly transfixed.<br /><br />This film is one memorable scene after another. Titanic leaving port in Southampton. Rose and Jack at the bow, \"flying\". \"Iceberg, right ahead!\" The screws hanging unbelievably out of the ocean. The screams of the doomed after she went down. And that ending that brought even the burliest man in the theater to tears.<br /><br />The music, which has also been a victim of the film\\'s success, was a key ingredient. James Horner\\'s score was simply perfect. And the love theme was beautiful and tragic. Too bad Celine Dion\\'s pop song version had to destroy this great bit of music for so many.<br /><br />I confess, I am a Titanic buff. As such, I relished the opportunity to see the ship as we never got to see it -- in all its beauty. Perhaps watching it sink affected me more than some because I\\'ve had such an interest in the ship all my life. However, I doubt many of those I saw crying were Titanic buffs. I applaud Cameron for bringing this story to the masses in a way that never demeaned the tragedy. The film was made with such humanity.<br /><br />Another reviewer said it better than I ever could: Open up your hearts to Titanic, and you will not be disappointed.',\n",
       " \"Titanic directed by James Cameron presents a fictional love story on the historical setting of the Titanic. The plot is simple, noncomplicated, or not for those who love plots that twist and turn and keep you in suspense. The end of the movie can be figured out within minutes of the start of the film, but the love story is an interesting one, however. Kate Winslett is wonderful as Rose, an aristocratic young lady betrothed by Cal (Billy Zane). Early on the voyage Rose meets Jack (Leonardo DiCaprio), a lower class artist on his way to America after winning his ticket aboard Titanic in a poker game. If he wants something, he goes and gets it unlike the upper class who are so concerned with their social worries. The two fall in love and the audience sees the sinking of the Titanic primarily through their eyes.<br /><br />The movie begins in modern times with the exploration of the wreck by a group searching for treasures, that sunk with the Titanic, which has recently occurred. One of the survivors of the Titanic, Rose DeWitt Bukater, who had heard of the exploration of the wreck on television and is flown to the boat where the search is being led from to tell of what she remembers to help the search. She gets to telling her memory of the one and only voyage of the Titanic. With this, the scene shifts to Southhampton, Ireland where the Titanic set sail from on April 10, 1912 as all the passengers are boarding. After another stop on the Irish coast Titanic went out to see on its maiden voyage across the Atlantic bound for New York. Historically the first few days of the voyage went by uneventful, but the fictional plot of the story is developed during this time as Rose sees the hopeless entrapement of an engagement that she is in to the wealthy Cal Hockley and falls in love with third class passenger, Jack Dawson. Captain Smith alledgedly as shown in the movie was urged by the White Star Line Director to increase the speed of the ship so they would make the newspaper headlines and receive extra publicity by arriving in New York on Thursday night and not on Friday morning as planned. Smith then ordered the fateful decision going against his thirty-two years of experience to stretch the Titanic's legs out to full speed. The Titanic had reports that the waters in the Atlantic they were sailing in were full of icebergs, but they ignored these warnings and proceeded at full speed as shown in the movie. On April 15, 1912 at 11:39, an iceberg was sighted. They attempted to shut off the engines and turn the ship out of the path of the iceberg but there was not enough time and the ship hit the iceberg on the starboard side as depicted in the film. The portrayal of the many small holes in the side of the ship and not one large gash along the side is accurate. The crew of Titanic sent out distress calls and set off distress rockets as shown until 2:18 when the lights finally failed. The lights of the California were spotted six miles away but they failed to realize what was going on and did not respond to Titanic's many pleas for help. The California had tried earlier in the day to warn Titanic of the severe ice that had caused them to stop their trip but Titanic had brushed them off causing the California to turn off its radio and leave the Titanic on its own. The first class women and children were the first as depicted to be put into the twenty lifeboats that were on the ship. Overwhelmingly the third class passengers suffered the most amount of deaths of any class and the crew was hit hard in this tragedy too. The word of White Star Line employees and first class passengers was believed over that of second and third class passengers when authorities were trying to gain information of the sinking. Also, the metal that was used to build the Titanic has been found in recent years under conditions of severe cold, which were experienced the night Titanic sank to be extremely brittle. Overall, the basic plot is very accurate in its portayal of the events and the times at which these events took place on the Titanic.<br /><br />Many of the characters in the story were not real and created simply for the purpose of the movie or as composite characters to represent possible characteristics and ideas of people on the ship. The core group of Rose, Jack, Cal, and Rose's mother all were fictional characters added into the story as they represent different groups of people from the time. Yet many characters such as the Unsinkable Molly Brown; Captain Edward Smith; the ship designer, Thomas Andrew; the White Star Line Representative, Bruce Ismay; and all of the Titanic's officers were real. The maiden voyage was going to be Captain Edward Smith's last voyage anyway as he planned to retire afterwards. He had been a part of the White Star Line since 1880 where he worked his way up to his status as the Millionaire's Captain when the Titanic sunk. The portrayals of the officers is accurate as only four survived the tragedy except for the officer who threatened to kill all of the passengers of the ship with his pistol. He is on record as acting heroicly and was misportrayed to the point that James Cameron apologized and evoked a monument in his honor in the officer's former Canadian hometown. As shown in the movie there was a language problem between the crew and many of the lower-class passengers from non-English speaking nations. In addition, Officer Lowe was the only officer who came back in the lifeboat as depicted. The old people shown in their bed as the water came in their room were based on the Strauss'. Not wanting to leave her husband's side Mrs. Strauss refused to get in her lifeboat and died with her husband on the Titanic. Furthermore, Mr. Goggenheim who was shown sipping his brandy and smoking a cigar reportedly did go out like this dressed in his best. The richest man on the ship, John Jacob Astor, who owned most of Manhattan died nonetheless as well, but his much younger wife was saved in a lifeboat. In addition, Molly Brown was saved and later had medals made up for the crew of the Carpethia that picked the survivors of Titanic up from the water. Her ticket on the Titanic had cost over four-thousand dollars and by the end of her life she ended up broke. All of the interiors of the ship were masterfully replacated down to the last pieces of china and silverware. The gymnasium, which is hardly seen is recreated perfectly with all of the machines reproduced to match those seen in old photographs. The wonderful outfits and costuming were an excellent re-creation of the Post-Victorian era of 1912. The rich at this time practically ruled everything, as the women's suffrage movement had not quite gotten moving yet. Women during this time often married for financial security as Rose was considering doing and normally took a back seast status to their husbands as Cal wished for Rose to do. The rich did not take well to `new money' such as Molly Brown as depicted. Everything of the time was very formal. Women had to be escorted to dinner by a male figure as seen with in the dining scenes. Smoking was not very common among women of the time but holders of cigarettes, which were just coming in at the time were used as seen with Rose in the movie. Men of the time generally smoked cigars not cigarettes. Women were constained physically by their corsets and socially by society. Although James Cameron had no background in historical films he brought in experts of Titanic coupled with two years spent cross-referencing the history of the Titanic and few liberties were taken. The beautiful cinematography and special effects also helped to make the film even more breathtaking.<br /><br />A recognizable message can be seen in the movie Titanic as the people on the ship had about three hours to contemplate their demise. The director, James Cameron, shows the various reactions to this time of crisis in people's lives. Everyone reacts differently and he gets you to think of how you might have reacted had you been in that situation on the Titanic on that fateful night. In addition, this film is a reflection of the 1990's when it was produced as it gives a look into the wreck of the Titanic. Only in the past fifteen years has the site of the actual Titanic been found and explored. This movie was able to give us a deeper look into a disaster that many would not have viewed. However, the moral question of whether people today should be taking treasures from the wreck of an underwater graveyard is posed. There have been attempts to stop treasure seeking missions such as the one portrayed in Titanic but all have failed. As it stands today anyone can make a voyage to the Titanic and take whatever valuables they as portrayed in the film showing the general values of our time on this matter.<br /><br />Technically the film is very well done. To get footage of the wreck at the bottom of the ocean it took twelve dives to get all of the footage needed for the movie. In addition, a special camera had to be created to withstand the intense pressure at the bottom of the ocean. Cameron did not plan on using the probe to go as far inside Titanic as anyone has in the 88 years since the ship sunk but it worked out that this provided an unique perspective into the ship. Furthermore, throughout the film fade ins and outs from the wreck of Titanic to the scene of Titanic during its actual voyage. This shift between the modern scene to the past scene during the voyage works as an excellent transition that makes the story easy to follow in aclear manner. At the very beginning of the movie a septune recreation is used to recreate the scene when the actual people left the European coast on Titanic giving it distinction from the rest of the events of the film.<br /><br />Titanic plays almost like a historical biography and is like a work of art, a true epic. Like most history novels, we know the ending, but it doesn't take away from the wonderful treats that can be found in this picture. Certain aspects of this film are Academy Award material including costuming, sound, cintematography, and editing. If you like interesting characters that will give you an insight into the life of characters in the early 1900's and how they face disaster, then this movie definitely is for you.<br /><br />\",\n",
       " \"People, please don't bother to watch this movie! This movie is bad! It's totally waste of time. I don't see any point here. It's a Stupid film with lousy plot and the acting is poor. I rather get myself beaten than watch this movie ever again.\",\n",
       " '<br /><br />I watched this movie just a little while ago and I found that this movie was terrible! It moved very slowly and was hardly entertaining!<br /><br />Sorry for all those that liked it.... this is only my opinion!',\n",
       " \"A cheesy, compellingly awful (and NOT in a fun way) C Grade movie. Everything shouts 'amateur', from the crumby script (bizarre premises, limited coherence and predictable endings; the turgid lighting, sound and hand-held wobbly camera angles; the coy and passe sexual inneundo and references; the patchy and unbelievable dialgoue to the Z rate acting. I saw it on DVD and kept hoping Edward Wood would pop out. All is forgiven - your Worst Films are works of art, and more coherent than this twaddle.<br /><br />But still, preferable to the warbling 'Every night in my dreams I hear you' - are you sure the Titanic crew weren't involved in this on the side?\",\n",
       " 'be warned: this movie tells lots of love stories without any coherence.<br /><br />The only intention of this movie seems to be showing love in many different ways.<br /><br />Each story has only a few minutes, so there is no development of characters and nearly no plot. Just an sketchy idea of a plot. The writer tried to build in turning points that aimed to surprise the viewer. However, that just didn\\'t work out because you didn\\'t get to know the characters in before or these \"jokes\" were just silly.<br /><br />This is a movie about love that fails to reach your heart. A dozen times. Or even more, I don\\'t know and I don\\'t care.',\n",
       " \"This was one of the worst movies i have ever seen. The plot is awful, and the acting is worse. The jokes that are attempted absolutley suck. Don't bother to waste your time on a dumb movie such as this. And if for some reason that you do want to see this movie, don't watch it with your parents.\"]"
      ]
     },
     "metadata": {},
     "output_type": "display_data"
    },
    {
     "name": "stdout",
     "output_type": "stream",
     "text": [
      "Answer:\n"
     ]
    },
    {
     "data": {
      "text/plain": [
       "'Leonardo DiCaprio, Kate Winslet, Billy Zane, Kathy Bates, Frances Fisher, Victor Garber, Jonathan Hyde, Bill Paxton, Gloria Stuart'"
      ]
     },
     "execution_count": 88,
     "metadata": {},
     "output_type": "execute_result"
    }
   ],
   "source": [
    "q = \"What actors are in Titanic?\"\n",
    "\n",
    "print(f\"Context for '{q}':\")\n",
    "display(find_similar(q, k=15)[\"text\"])\n",
    "\n",
    "print(\"Answer:\")\n",
    "\n",
    "get_completion(q, 15).choices[0].message.content"
   ]
  },
  {
   "cell_type": "markdown",
   "metadata": {},
   "source": [
    "Model poprawnie wyciągnął informacje o aktorach z różnych komentarzy omawiających film Titanic."
   ]
  },
  {
   "cell_type": "code",
   "execution_count": 91,
   "metadata": {},
   "outputs": [
    {
     "name": "stdout",
     "output_type": "stream",
     "text": [
      "Context for 'What is a good horror movie to watch?':\n"
     ]
    },
    {
     "data": {
      "text/plain": [
       "['NO SPOILERS.<br /><br />I love horror movies, but this has got to be the poorest attempt to make one ever. Calling it \"a movie\" is also a stretch. This \"random-clips-of-obviously-fake-and-tacky-violence-and-an-ugly- woman-trying-to-act-sexy-edited-poorly-together\" is not worth watching.<br /><br />Watching this is about as interesting watching as some random family\\'s holiday pictures, and it has about the same quality you would expect when you send your ten year old son into the woods with your new vid-cam, and tell him to make a movie.<br /><br />Terrible.',\n",
       " \"As far as horror flicks go, this one is pretty darn good. While it may not be a classic tale of horror and suspense, it does provide many quality chuckles that make this movie a must see if you're into the horror/comedy genre.\",\n",
       " 'I love horror movies that brings out a real amount of mystery like say \"silent hill\" ( which i found to be quite good, but still, was missing something ) and movies that keeps you guessing, this i thought was one of those movies. At first the movie starts out with some really good suspense and builds up a good starting point for a good horror scene, but after that it just rolls down the hill and from there it only goes faster and faster down. I mentioned silent hill at first for a reason because i can see a lot of \"stolen\" themes from that movie in here.. All in all i would say, watch silent hill instead of this one, its better, its more scary, it has a lot more suspense and also the ending is a lot better.. And best of all, you wont feel ripped off as i did with this one.. This just seems to be one of those \"i like that movie so I\\'m gonna re-make it in my own really bad version\" kinda movie.. Oh and one more thing... Lordi.. in a horror movie... thats like trying to scare a kid with a care bear who has \"hug me and i will love you forever\" written on the stomach of it..',\n",
       " 'A friend and I went through a phase some (alot of) years ago of selecting the crappest horror films in the video shop for an evening\\'s entertainment. For some reason, I ended up buying this one (probably v. v. cheap).<br /><br />The cheap synth soundtrack is a classic of its time and genre. There\\'s also a few very amusing scenes. Among them is a scene where a man\\'s being attacked and defends himself with a number of unlikely objects, it made me laugh at the time (doesn\\'t seem quite so funny in retrospect but there you go).<br /><br />Apart from that it\\'s total crap, mind you. But probably worth a watch if you like films like \"Chopping Mall\". Yes, I\\'ve seen that too.',\n",
       " \"I was never a big fan of horror movies. They usually try cheap tricks to scare their audiences like loud noises and creepy children. They usually lack originality and contain overacting galore. The only horror movie i like was Stir of Echoes with Kevin Bacon. It was well-acted, and had a great story. But it has been joined and maybe even surpassed by Stanley Kubrick's The Shining, quite possibly the scariest movie ever.<br /><br />The movie follows a writer (Jack Nicholson) and his family who agree to watch over a hotel while it is closed for the winter. There were rumors of the place being haunted and the last resident went crazy and murdered his family. But Jack is convinced it will be OK and he can use the quiet to overcome his writer's block. After months of solitude and silence however, Jack becomes a grumpy and later violent. Is it cabin fever or is there something in the hotel that is driving him mad?<br /><br />One of the creepiest parts about the movie is the feeling of isolation that Kubrick makes. The hotel is very silent, and the rooms are huge, yet always empty. It is also eerily calm when Jack's son is riding his bike through the barren hallways. Jack Nicholson's performance is also one of his very best, scaring the hell out of me and making me sure to get out once in awhile. My favorite scene is when he is talking to a ghost from inside a walk-in refrigerator.<br /><br />The Shining is tops for horror movies in my opinion, beating the snot out of crap like the Ring and The Blair Witch Project. It may be a oldie, but is definitely a goodie. 8/10\",\n",
       " \"THE SCREAMING SKULL (1 outta 5 stars) This movie boasts some pretty cool opening credits (an offscreen narrator warning that movie patrons will be offered a free burial if they die of fright watching this movie, a scary shot of a skull emerging from a placid pool and the ubiquitous scary music) but, sadly, the movie is all downhill from there. A widowed man takes his new bride to his secluded mansion... admonishing his servants and friends that the new Mrs. has a very fragile disposition due to a tragedy in her past. Well, in no time at all she begins to see and hear mysterious things that no one else can. Her husband assures her that it's all merely in her mind and... well, you can probably see where this all is going. You will have figured out what's going on long before our hapless heroine... because you have probably seen the exact same plot in hundreds of other movies and TV shows (and done better, too). To add to the movie's myriad transgressions, most cuts of this movie (on numerous cheap DVD compilations) seem to be missing a few key scenes. You see the heroine slowly walking towards the window... she goes to open it... you know she is going to see something scary... and then... suddenly the scene cuts to her sobbing in her husband's arms. So what did she see??? I guess we'll never know.\",\n",
       " \"John Carpenter's Halloween<br /><br />Is it the greatest horror film of all time? no .. maybe not to everyone, but to me it is and always will be. The film is sheer genius and will always hold a very special place in my heart. <br /><br />It's unfortunate I didn't get to see this film until twenty years after it's release, but even twenty years later after so many slasher copy cats had come and gone the film still gave the same impact as it must have done then. My father suggested before I go see Halloween H20 that I whip out and rent Halloween's 1 and 2 to get the full story, and after watching Halloween it was quite clear that it defined and set the Slasher Genre.<br /><br />The film's plot is simple, In 1963 Michael Audrey Myers killed his sister Judith in cold blood with a large butcher knife. Incarcerated for fifteen years where he was treated by Dr. Sam Loomis, he escapes and returns to his hometown of Haddonfield where he begins stalking three young girls: Laurie Strode an innocent bookworm, Annie Brackett a tough talking sarcastic and Lynda Van Der Klok a beautiful and sexually vigorous young girl. Dr. Loomis tracks Michael here where he enlists the help of the town Sheriff Leigh Brackett whom remains skeptical of his story about the psychotic killer. Michael watches the girls mercilessly and begins killing them off one by one, until only sweet innocent Laurie is left who is the prime target on Michael's list.<br /><br />The casting of this film was brilliant and all the actors and actresses gave top notch performances, Jamie Lee Curtis was stunning in her first film role as Laurie Strode and Donald Pleasance gave a thrilling performance with his small role as Loomis. Nick Castle who portrays Michael did an outstanding job as the soulless and evil killer, and his walk and body movements were perfect.<br /><br />One of the great highlights of this film is it's chilling score done by John Carpenter himself who created one of the most recognizable horror themes known today. The Blue Lighting was creepy and effective and one of the great moments in this film is when young Laurie is cowering against a wall after seeing her dead friends, and in the shadows behind her Michael's face materializes before he strikes. Michael's mask was one of the thing's that sent chills down my spine the most, the white emotionless face worked perfectly.<br /><br />What makes this film so great is that it is not a gory film unlike the cheesy Friday The 13th films, in fact there is little blood in this film at all and works instead on suspense and tension. <br /><br />It became so clear that Halloween spawned movies like Friday The 13th and characters like Jason Voorhees, whom he is a mere rip off of Michael Myers.<br /><br />To sum it up, I suggest you see this film at least once in your life as it is a landmark in film making and is without a doubt if not the greatest then one of the greatest horror films of all time.\",\n",
       " 'Three part \"horror\" film with some guy in a boarded up house imploring the viewer not to go \"out there\" and (unfortunately) gives us three tales to prove why.<br /><br />The first story involves a young couple in a car accident who meet up with two psychos. It leads up to two totally predictable twists. Still, it\\'s quick (about 15 minutes), violent, well-acted and well-done. Predictable but enjoyable.<br /><br />The second involves a man on the run after stealing a large amount of money. His car breaks down, he\\'s attacked by a dog and stumbles into a nearby clinic. VERY obvious, badly done and extremely slow. Even at 30 minutes this is too long. Good acting though.<br /><br />The third is just barely a horror story. It involves a beautiful, lonely woman looking for Mr. Right. It has beautiful set designs, a nice erotic feel and a nice sex scene. But (again) predictable and not even remotely scary.<br /><br />It ends very stupidly.<br /><br />All in all, the first one is worth watching, but that\\'s it. Tune in for that one then turn it off.',\n",
       " 'We see a body of dead girl in a morgue with the coroner trying to close the eyes of the girl, but whatever he tries they won\\'t stay open. After this we move into the future and we follow a group of former school friends who hide a terrible secret, but suddenly they start getting picked off one by one in many grisly ways. Through flashbacks we learn of this awful suicide of a shy girl who was trying to be one of the group, but she was shut out by them because they dug up her past and found out some weird occurrences. So, is she back from the grave seeking revenge? <br /><br />Oh what a great and always spooky story! Well, that\\'s what I hoping I could say. And \\'hoping\\' was as good as it got. This is an forgettable, so-so supernatural horror flick that I actually watched before, but I went in thinking it was my first viewing. So to my surprise it hit me when I started picking up on certain things, but like I said it\\'s quite a forgettable mix that it felt like a first viewing again. \"Nightmare\\' is just another type of it\\'s field that adds a \\'few\\' changes to the gruel. Oh, please give me something that\\'s a bit more fresh. It doesn\\'t have to be entirely original, but this is one formulaic and at times quite tired J-horror flick. Even though it strings along the usual ghost story involving you guessed right\\x85 an evil looking, vengeful chick spirit.<br /><br />But in spite of my negativity of it being the same old, same old story and jolts. This one kind of entertains when its being grisly and popping in some creepy visuals. The deaths are vividly displayed with bite and some originality. While, the gloomy atmosphere alienates the audience with it\\'s murky lighting. The first scene involving the spirit terrorising one of the girls is one blood-curdling experience, but really when it\\'s not trying to shock you. I found it rather coma inducing and I thought about getting some shut-eye. That might be harsh, but it just didn\\'t go anywhere of any interest between those shock moments. You could say that because the supposed mystery is really not much of one, the unsure story is just simply flat and the characters are a self-centred bunch that you don\\'t really care what happens to them. The disjointed story should have focused more on the spirit than that of these bland characters who have one unconvincing group relationship. It just overplayed its cards by becoming overly muddled and taking too long to get going that when it comes to the climax it\\'s just plain ludicrous. The film\\'s haunting ending is a high point, though.<br /><br />The film looks fine, although it could have done without the snazzy, quick fire editing and the music score was a bit overbearing in playing up the mood. The performances tread a fine line, but Gyu-ri Kim is strong in the lead role.<br /><br />It\\'s nothing new and it shamelessly steals ideas, but if you can look past that it delivers some nasty thrills. Although, I found the handling of it rather lethargic, despite the odd effective chills. A standard effort all round I guess, but still it\\'s equally missable.',\n",
       " 'and rent a GOOD horror movie. It\\'s like the writer had never seen a horror movie before and didn\\'t realize every single thing he wrote was clichéd and hackneyed and has been parodied to perfection in movies like \"Scream\" and \"Scary Movie\".<br /><br />In between the scary bits is the most BANAL and BORING dialog ever written. Stupid \"we\\'re going to the prom\" junk. I wanted to claw my ears off. Honestly, \"The Hills\" has better dialog.<br /><br />There really was no need to make this movie. Leading lady is uninteresting and I kept thinking \"Her? Really? Guy is obsessed with her? Really?\" <br /><br />All the characters act in stupid ways, including the police. (Cover the place in teams of 2! Front and back! Not one sleepy cop sitting in his car with the window rolled down just waiting for his throat to be slashed.) <br /><br />The serial killer just swans about murdering everyone he wants without the least bit of problem. No resistance from victims (or doors). Nobody has any protection or the least idea of fighting back (or flipping the security lock on the hotel room door). The people are like mentally disabled sheep.<br /><br />By the by, if you\\'re a gore fan, you\\'ll be disappointed too. All the killing is kept offscreen and is -- ahem -- tastefully done. (So boo hoo for you!) <br /><br />None of the killings is the least bit interesting. Most of the time they\\'ve already happened by the time we find out.<br /><br />The only cliché missing was the cat that always pops out in this kind of movies. \"Oh kitty! You scared me! I thought you were the killer -- AIIEEEE!\" <br /><br />And then at the end when it\\'s time for the killer to die -- well, let\\'s just say it\\'s the easiest and most obvious choice. Snore.<br /><br />The audience was jeering and talking back to the screen throughout. It was too dumb to believe and not really scary enough. Don\\'t encourage this kind of lazy film-making.<br /><br />(Oh, and by the way -- no crowning of a prom king or queen. No tiara. No bucket of blood.) <br /><br />So save your money and rent \"Carrie\" or \"Friday the 13th\" or \"Halloween\" or \"Scream\" or \"Scary Movie\" (any of them) to get a good scare with some original twists.',\n",
       " 'This piece ain\\'t really worth a comment.. It\\'s simply the worst \"horror\" movie i have ever seen. The actors are bad as bad can be and the whole plot is so silly it nearly made me cry. Shame on you I say!!',\n",
       " \"I'm not even gonna waste time on this one; it's not funny, not scary, practically unwatchable and only occassionaly gory(the FX suck though(no pun intended)). This is a disclaimer; WATCH AT YOUR PERIL! Ask yourself 1 question; Are slugs scary?\",\n",
       " \"Dude, really!!!! where have you guys been the past 20 years, this is shocking in all kind of ways, horror ? This is a joke, there is nothing wrong with being low budget, but this is a laugh, If you want to look at the classics, Freaks of Tod Browning, the victims of Dracula and Frankenstein, the Undying Monster, Ernest Thesiger, Paul Wegener's The Golem and the passengers of The Ghost Train, you can't compare it, it gives it a bad name, bad acting, bad screenplay etc. Total waist of money and free time, have watched a lot of movies, were as horror is my all time favorite, I really am speechless, have nothing more to say that please don't do the effort to watch something so daft, please understand\",\n",
       " \"First let me be honest. I did not watch all this movie. I watched the first five minutes and when i realized that I had nearly fallen to sleep i decided that I may as well fast forward and see if it got any more interesting later on... It didn't. This film is just a collection of lame attempts to make a story which is already uninteresting and badly told into something that it would never become: a decent horror movie. Because I feel it is important to say that even a movie with poor special effects can still be good if it is well made. This film isn't and will only put you into a deep sleep if you attempt to watch it. Lastly I feel it is important to say that I think this movie is in the publicdomain so if you feel that you must absolutely watch it than a littlesearch on the internet will surely show you a place where you won't need to pay to watch this pile of cinematographic dung.\",\n",
       " \"John Carpenter's Halloween is quite frankly a horror masterpiece. It tells the immortal story of escaped mental patient Michael Myers, who returns to his hometown on Halloween night to stalk and kill a group of babysitters.<br /><br />This was the first and without doubt the best in the Halloween franchise. Carpenter shows great restraint in pacing the story very slowly and building likable characters; unusual for a horror picture.<br /><br />Even more unusual is the non-existence of blood and gore, and yet it remains the scariest Halloween to date. Get that! <br /><br />Halloween marked the film debut of Jamie Lee Curtis and a defining point in the late great Donald Pleasance's career. A true classic.\"]"
      ]
     },
     "metadata": {},
     "output_type": "display_data"
    },
    {
     "name": "stdout",
     "output_type": "stream",
     "text": [
      "Answer:\n"
     ]
    },
    {
     "data": {
      "text/plain": [
       "'Based on the context provided, \"John Carpenter\\'s Halloween\" is mentioned as a good horror movie to watch.'"
      ]
     },
     "execution_count": 91,
     "metadata": {},
     "output_type": "execute_result"
    }
   ],
   "source": [
    "q = \"What is a good horror movie to watch?\"\n",
    "\n",
    "print(f\"Context for '{q}':\")\n",
    "display(find_similar(q, k=15)[\"text\"])\n",
    "\n",
    "print(\"Answer:\")\n",
    "\n",
    "get_completion(q, 15).choices[0].message.content"
   ]
  },
  {
   "cell_type": "markdown",
   "metadata": {},
   "source": [
    "Model poprawnie podsumował, że z komentarzy wynika rekomendacja dla filmu Halloween, ale prawdopodobnie nie jest ona reprezentatywna dla całego zbioru - w top 15 wynikach zwróconych przez retriever nie znalazły się szczegółowe informacje o innych filmach, które warto rozważyć."
   ]
  },
  {
   "cell_type": "code",
   "execution_count": 99,
   "metadata": {},
   "outputs": [
    {
     "name": "stdout",
     "output_type": "stream",
     "text": [
      "Context for 'What can be said about movie Titanic?':\n"
     ]
    },
    {
     "data": {
      "text/plain": [
       "['The tragedy of the doomed ship Titanic has inspired many books and movies. The battle between nature and technology always caught man\\'s imagination. The latest film concerning this tragedy in the Atlantic Ocean was written and directed by famous action movie filmmaker James Cameron. The story of \"Titanic\" involves two fictional characters (Leonardo DiCaprio and Kate Winslet) from different backgrounds (one is a hobo-artist, the other is an aristocrat) and how their love triumphs over societal barriers and the tragedy of a sinking ship that they happen to be on.<br /><br />First of all, although using a historical name, this movie had little regard to history. The plot was built around two fictional lovers, French diamond, and treasure hunters. The deaths of over a thousand of people on the greatest luxury ship of its time became a mere background. Many historical facts were simply forgotten. Where was the radio operator that ignored the iceberg warnings? Why was there no mention of the ship that was only 5 miles away from the Titanic but did not come to the rescue because its captain failed to identify the distress signal? Omitting these facts is an insult to the tragedy. And what was the point of flavoring this historical disaster with fictional cheesy romance when the story is already as sad as it is.<br /><br />The overall plot was rather shallow; rich equals greed and corruption, poverty equals compassion and heroism. It is very ironic to spend $200 million to make a movie about how money corrupts. There was absolutely no human side shown in anti-heroes. It seemed like Billy Zane was playing a part of the devil. Casting was also very poor. If DiCaprio was 2 inches shorter than Winslet, you could swear she was his baby-sitter. The length of the movie was unnecessarily stretched to over 3 hours. First hour and the half was wasted on establishing the relationships between the characters that were known to audience long before they went to theater and the dialogue that was used to do so made it even worse. Hearing corny pick up lines such as \"I see you\" and \"This is my side of the ship\" generated more pain than the screams of drowning people. Also, jokes were too abundant and rather lame.<br /><br />\"Titanic\" did involve some moving scenes such as the part when the musicians were playing while the ship was sinking but they were no way near anything original. The best thing about this film were its special effects, and that is the only thing that truly deserved an award.<br /><br />Although this film lacked artistical value in overall sense, the public could not resist a sentimental story starring Romeo (DiCaprio), and so the movie became a success. Now it is safe to say that the industry will be less hesitant to invest large amounts of money in a single motion picture, so it seems that \"Titanic\" did achieve something after all.',\n",
       " 'Every once in a while the conversation will turn to \"favorite movies.\" I\\'ll mention Titanic, and at least a couple people will snicker. I pay them no mind because I know that five years ago, these same people were moved to tears by that very movie. And they\\'re too embarrassed now to admit it.<br /><br />I just rewatched Titanic for the first time in a long time. Expecting to simply enjoy the story again, I was surprised to find that the movie has lost none of its power over these five years. I cried again.... in all the same places. It brought me back to 1997 when I can remember how a movie that no one thought would break even became the most popular movie of all time. A movie that burst into the public consciousness like no other movie I can recall (yes, even more than Star Wars). And today, many people won\\'t even admit they enjoyed it. Folks, let\\'s get something straight -- you don\\'t look cool when you badmouth this film. You look like an out of touch cynic.<br /><br />No movie is perfect and this one has a few faults. Some of the dialogue falls flat, and some of the plot surrounding the two lovers comes together a little too neatly. However, none of this is so distracting that it ruins the film.<br /><br />Leonardo DiCaprio and Kate Winslet are wonderful. Leo is one of the fine actors of his generation. Wait \\'til you see him in Gangs of New York before you call him nothing more than a pretty boy. Kate Winslet was so strong in this film. The movie really was hers, and she held it together beautifully.<br /><br />James Cameron managed what many believed was impossible by recreating a completely believable Titanic. The sinking scenes were horrific, just as they were that night. How anyone can say the effects were bad is beyond me. I was utterly transfixed.<br /><br />This film is one memorable scene after another. Titanic leaving port in Southampton. Rose and Jack at the bow, \"flying\". \"Iceberg, right ahead!\" The screws hanging unbelievably out of the ocean. The screams of the doomed after she went down. And that ending that brought even the burliest man in the theater to tears.<br /><br />The music, which has also been a victim of the film\\'s success, was a key ingredient. James Horner\\'s score was simply perfect. And the love theme was beautiful and tragic. Too bad Celine Dion\\'s pop song version had to destroy this great bit of music for so many.<br /><br />I confess, I am a Titanic buff. As such, I relished the opportunity to see the ship as we never got to see it -- in all its beauty. Perhaps watching it sink affected me more than some because I\\'ve had such an interest in the ship all my life. However, I doubt many of those I saw crying were Titanic buffs. I applaud Cameron for bringing this story to the masses in a way that never demeaned the tragedy. The film was made with such humanity.<br /><br />Another reviewer said it better than I ever could: Open up your hearts to Titanic, and you will not be disappointed.',\n",
       " \"A cheesy, compellingly awful (and NOT in a fun way) C Grade movie. Everything shouts 'amateur', from the crumby script (bizarre premises, limited coherence and predictable endings; the turgid lighting, sound and hand-held wobbly camera angles; the coy and passe sexual inneundo and references; the patchy and unbelievable dialgoue to the Z rate acting. I saw it on DVD and kept hoping Edward Wood would pop out. All is forgiven - your Worst Films are works of art, and more coherent than this twaddle.<br /><br />But still, preferable to the warbling 'Every night in my dreams I hear you' - are you sure the Titanic crew weren't involved in this on the side?\",\n",
       " 'James Cameron\\'s \\'Titanic\\' is essentially a romantic adventure with visual grandeur and magnificence, a timeless tragic love story set against the background of this major historical event... It\\'s an astonishing movie that exemplifies hope, love and humanity... <br /><br />Leonardo DiCaprio is terrific on screen with big charisma... Conveying passion, trust, insouciance and ingenuity, he\\'s a free-spirited wanderer with artistic pretensions, and a zest for life... <br /><br />Kate Winslet is absolutely lovely as the confused upper-class teen engaged to a nasty rich guy who finds herself, one night, plunged to the depths of despair...<br /><br />Billy Zane is an arrogant racist, abusive and ultra rich who would lie, cheat, steal, bribe with money or even use an innocent young child to escape defeat... He keeps a 56 carat blue diamond worn by Louis XVI...<br /><br />Kathy Bates is the legendary unsinkable Molly Brown, the richest woman in Denver, who is a lot less uptight than the other rich folk on the ship...<br /><br />Frances Fisheris is the impecunious cold snobbish mother who, deathly afraid of losing her social stature, forces her daughter to become engaged to marry a rich, supercilious snob...<br /><br />Victor Garber is the master shipbuilder, the real-life character who attempts to fix time, to measure it, in a sense, to make it into history... <br /><br />Jonathan Hyde is the White Star Chairman who wants the Titanic to break the Trans-Atlantic speed record, in spite of warnings that icebergs may have floated into the hazardous northern crossing...<br /><br />Bill Paxton is the opportunistic undersea explorer in search for a very rare diamond called the \"Heart of the Ocean.\" <br /><br />Gloria Stuart is the 101-year old woman who reveals a never-before told love story... The nightmare, the horror and the shock are imprinted upon her deeply lined face... <br /><br />\\'Titanic\\' is loaded with luminous photography and sweeping visuals as the footage of the shipwrecked Ocean liner lying motionless on the ocean floor; the incredible transformation of the bow of the sunken \\'Titanic\\' that takes the viewer back to 1912, revealing the meticulously re-created interiors; the first sight of the Titanic steamed steadily toward her date with destiny; the Titanic, leaving the Southampton dock, and some dolphins appear jumping, racing along in front of the luxurious ship; DeCaprio and Winslet flying at the ship\\'s front rail in a gorgeous magic moment; the intertwining of past and present as Jack was drawing Rose on his paper, the camera zooms closely on young Rose\\'s eye, only to transform its shape into Gloria Stuart\\'s aged eye...<br /><br />Chilling scenes: Titanic\\'s inevitable collision with destiny; James Cameron\\x97in one of the most terrifying sequences ever put on film\\x97 takes us down with the Titanic, finally leaving us floundering in the icy water, screaming for help that never comes...<br /><br />Winner of 11 Academy Awards, including Best Picture, James Cameron\\'s \"Titanic\" is a gigantic epic where you don\\'t just watch the film, you experience it! The visual effects are amazing, like no other film\\'s... The decor is overwhelming... James Horner\\'s music intensifies the emotions... The whole movie is hunting and involving, filled with a wide range of deep feelings... <br /><br />It\\'s truly a moving tribute to those who lost their lives on that unfortunate ship...',\n",
       " 'The movie Titanic makes it much more then just a \"night to remember.\" It re writes a tragic history event that will always be talked about and will never been forgotten. Why so criticised? I have no idea. Could/will they ever make a movie like Titanic that is so moving and touching every time you watch it. Could they ever replace such an epic masterpiece. It will be almost impossible.<br /><br />The director no doubt had the major impact on the film. A simple disaster film (boring to watch) converted to an unbelievable romance. Yes I\\'m not the Romance type either, but that should not bother you, because you will never see a romance like this. Guaranteed! Everything to the amazing effects, to the music, to the sublime acting. <br /><br />The movie creates an amazing visual and a wonderful feeling. Everything looks very real and live. The legend herself \"TITANIC\" is shown brilliantly in all classes, too looks, too accommodation. The acting was the real effect. Dicaprio and Winslet are simply the best at playing there roles. No one could have done better. They are partly the reason why the film is so great. <br /><br />I guess it\\'s not too much to talk about. The plot is simple, The acting is brilliant, based on a true story, Probably more then half of the consumers that watch the film will share tears, thanks to un imaginable ending which can never be forgotten. Well if you haven\\'t seen this film your missing out on something Hesterical, and a film to idolise for Hollywood. Could it get better? No. Not at all. The most moving film of all time, don\\'t listen to people, see for yourself then you will understand. A landmark. (don\\'t be surprised if you cry too)',\n",
       " 'Titanic has to be one of my all-time favorite movies. It has its problems (what movies don\\'t) but still, it\\'s enjoyable.<br /><br />When I stumble across someone who asks me why I like Titanic, I suppose my first reaction is \"wait a minute, you don\\'t?\" I know so many people who don\\'t like this movie, and I\\'m not saying I don\\'t see why. \"The love story is too cheesy\" well, yes but isn\\'t it enjoyable and moving? All right, the love story between Jack and Rose is very unrealistic, everyone knows that love like this doesn\\'t actually exist. But this is a movie, doesn\\'t everyone enjoy watching a beautiful story that lets us slip slightly into fantasy for a while? The next complaint, DiCaprio and Winslet are terrible actors. Well, OK, in this movie, I agree that they do not perform to their full potentials. However I think it\\'s unfair to say that they are terrible actors. I personally think they are both very talented actors who unfortunately are very famous for a movie that they are not amazing in. But the roles they are given are simple, and the characters seem real enough that you can care about them quite a bit, but I agree with many people that they did not do as well as could have been expected.<br /><br />And finally, if one is going to complain that they don\\'t like this movie because they hate romance, or because they hate history, or tragic movies, then I\\'m sorry but why on earth did they go and see a movie that is so clearly all of these things. It\\'s like people who complain The Dark Knight is a bad movie because they hate action movies. Simply for being a movie, not because you dislike the genre, this IS a good movie.<br /><br />Well deserving of its Oscars, in particular, Best Cinematography, which I find to be the best I\\'ve ever seen in a movie save maybe the Lord of the Rings trilogy.<br /><br />I know some of the writing fails, such as the constant screaming of each other\\'s names throughout the movie. The flashback portion of the story can be quite weak at times, but overall it\\'s an amazing achievement in making the Titanic look so real, and the sinking feel so epic.<br /><br />I understand why a lot of people dislike this movie, but for the most part it boils down to them disliking the fundamental idea, such as it being a love story, rather than them thinking the movie in and of itself is poorly constructed.<br /><br />I can tell you that I have read more than five books about the Titanic, including memoirs form the day it happened, and this movie is extremely historically accurate save just a few faults. The only main ones I can find is that the piping should be threaded copper, not steel, and the iceberg looks fairly unrealistic as is the scene where they hit it.<br /><br />I give this movie 10/10, not because I like romance movies, but simply because it\\'s an outstanding cinematic achievement, that leaves one feeling horrified by the realistic adaptation of events.',\n",
       " 'Titanic is a classic. I was really surprised that this movie didn\\'t have a solid ten, overall in the IMDb user rankings. Maybe, it\\'s just cool to not give Titanic credit nowadays, but when it was first made it was really something. When the movie came out people flocked to the theaters. When it came out on video my sister and i would watch it twice a day for a month. It was safe to say we were obsessed and for good reason. Some of the disaster scenes were hard to forgot, like the frozen baby, or the guy who committed suicide after killing someone in the unruly crowd. Many people died on that ship, and to convey that on film with the immediacy and emotion it needed is a hard challenge that James Cameron stepped up to. And let\\'s not forget the amazing romance between Jack and Rose. Whether or not their relationship was a figment of someone\\'s imagination it was lovely. They barely knew each other, but they would die for each other. They trusted each other. They sure as hell are giving Romeo and Juliet a run for their money. \"I\\'ll never let go, Jack.\" Titanic is a great film down to it\\'s very core. It is a powerful story told through brilliant acting, excellent cinematography, beautiful music, and a crew full of hard and dedicated workers. It really blows my mind when someone says they hate this movie.',\n",
       " \"Why do people bitch about this movie and not about awful movies like The Godfather. Titanic is the greatest movie of the 21st Century.With great acting,directing,effects,music and generally everything. This movie is always dumped by all because one day some one said they didn't like it any more so most of the world decided to agree. There is nothing wrong with this movie. All I can say is that this movie, not only being the most heavily Oscar Awarded movie of all time, the most money ever made ever and sadly one of the most underrated movies I've ever seen. Apart from that it is truly the best movie of all time. The only movies that come close to being like all the Star Wars and the Lord of the Rings trilogy or anything by the masters Hitchcock or Spielberg or Tim Burton. These are all good movies and directors but none match up to James Cameron's Masterpiece TITANIC.\",\n",
       " \"This film is harmless escapist fun. Something the recent Tomb Raider film lacked. I can't wait to get the DVD. How can people give this a low score and still go and see Titanic without a guilty conscience I do not know. Anything with Karen Kopins in her underwear has got to rate an extra point or two!\",\n",
       " \"Sure, Titanic was a good movie, the first time you see it, but you really should see it a second time and your opinion of the film will definetly change. The first time you see the movie you see the underlying love-story and think: ooh, how romantic. The second time (and I am not the only one to think this) it is just annoying and you just sit there watching the movie thinking, When is this d**n ship going to sink??? And even this is not as impressive when you see it several times. The acting in this film is not bad, but definetly not great either. Was I glad DiCaprio did not win an oscar for that film, I mean who does he think he is, Anthony Hopkins or Denzel Washington? He does 1 half-good movie and won't do a film for less than $20 million. And then everyone is suprised that there are hardly any films with him in it. But enough about, in my eyes, the worst character of the film. Kate Winslet's performance on the other hand was wonderful. I also tink that the director is very talented to put a film of such a magnitude together. There is one lesson to be learned about this movie: there are too many love-stories as it is, filmmakers shouldn't try to add a crummy romance in to every single movie!!! Out of a possible 100% I give this film a mere 71%.\",\n",
       " \"Titanic is a long but well made tragic adventure love story that takes place during the ill-fated voyage on the unsinkable ship. Writer/Director James Cameron has done a great job of making this movie about a fictional love story between two very different people and combining that with the real event of the Titanic that sunk after hitting an iceberg on April 15, 1912 claiming thousands of lives who perished in the icy freeing waters of the North Atlantic. The two leads in the film are great in their roles including Leonardo DiCaprio and Kate Winslet. They make for a good on-screen couple. DiCpario and Winslet also had genuine chemistry together which made the romance that eventually blossoms between them that much more believable. They both showed real talent when this one came out and both of them have continued to show just that in their most recently films as well. The rest of the supporting cast including Billy Zane, Kathy Bates, Frances Fisher, Jonathan Hyde, and Bill Paxton in a small role are equally impressive as their characters who help bring them to life in this film. The love story, the action, suspense, and the special effects are magnificent done especially for that time. The horror of the situation the characters were in felt so real because it really happened making you want most of them to survive this life and death situation. The pacing was a little slow at times and it was a little long but the rest of the movie made up for it's few flaws. Titanic makes for a great date movie which is sure to make some girls cry almost every time they watch it. The fact that this really happened definitely added to the movie making you feel sorry for all the lives lost when the Titanic sunk into the Atlantic after hitting an iceberg. Overall Titanic is a tragic heartbreaking story about two people who fall in love while on the ill-fated ship thats brought to life by the exceptional performances from the cast especially DiCaprio and Winslet who definitely make this movie worth the time to watch.\",\n",
       " 'I, like many people, saw this film in the theatre when it first came out in \\'97. It was a below average film at best, defiantly not the \"masterpiece\" that all these \"Titanic\" fanboys like to make it out as. First off, DiCaprio is a terrible actor no matter which way you look at it. People just like him because of his looks. His acting \"skills\" essentially consist of saying a lot of cheesy lines and trying to act sexy. Second, the film itself had a rather boring and simple plot: girl falls in love with guy, ship they\\'re on sinks, lots of crappy love scenes thereafter. Anyone with an IQ above 50 will realize this isn\\'t ingenious in any way whatsoever. Nor is it original. Plus the director felt the need to drag it out for 3+ hours. I could compress it into a 1 hour block without losing any of the plot. In conclusion, \"Titanic\" is the most overrated movie to date. Why it got so much attention and money is beyond me.',\n",
       " 'I avoided watching this film for the longest time. Long before it was even released I had dismissed it as an over-hyped, over-blown, overly romanticized piece of Hollywood schmaltz, and I wanted nothing to do with it. I never watched it in the theatre. I shook my head in disbelief at the 11 Academy Awards - even though I had never seen it. Then I was asked to be a judge at a high school public speaking contest. One of the girls spoke about this movie. \"It was so great,\" she said. \"You really felt like you were on the ship.\" \"Nonsense,\" I thought. I shared my feelings with my fellow judges. One looked at me and said, \"you might be right, but if she liked the movie that much maybe she\\'ll want to learn more about the real Titanic. The movie must have done something right to get her so interested.\" \"Well, maybe,\" thought I. Then it finally appeared on Pay TV. \"OK,\" I thought, \"I\\'ll give it a look see.\" I didn\\'t want to like it - and I didn\\'t. I loved it! What a great movie.<br /><br />Where to start? First - the directing. My high school public speaking contestant was right. James Cameron does a superb job of creating an almost \"you are there\" type of atmosphere. The gaiety of life aboard the most elegant ship in the world. The nonchalance as news of the iceberg first spreads; then the rising sense of panic. You don\\'t just watch it; you really do feel it. Then - the performances. The lead performances from Kate Winslet (as Rose) and Leonardo DiCaprio (as Jack) are excellent - Winslet\\'s being the superior, I thought, but both were good. They had their rich girl/poor boy characters down to a perfect \"t\" I thought. In my opinion, though, stealing the show was Frances Fisher as Rose\\'s mother. She was perfect as the snobby aristocrat, and you could feel the fear and loathing she felt every time she looked at Jack. Then - the details. I\\'m no expert on the sinking of the Titanic, but I have a reasonable general knowledge, and this film does a super job of recreating the historical details accurately and then weaving them seamlessly around the fictional romance. Very impressive, indeed. Then - the song. Who can watch this movie and not be taken with Celine Dion\\'s performance of \"My Heart Goes On.\"<br /><br />Problems. Well, the romance was perhaps too contrived, in the sense that I just don\\'t accept that Jack could have moved so effortlessly from steerage to first class. (I know he was invited the first time; but he seems to keep getting into first class without being stopped until he\\'s been there for a while.) The realities of the separation of the social classes were much more realistically portrayed, I thought, when the steerage passengers were going to be left locked down there after the ship hit the iceberg while the first class folks got to enjoy half empty lifeboats. <br /><br />A minor quibble, though. This is truly an excellent movie. My only regret is not seeing it in the theatre, where I think it would have been so much more impressive.<br /><br />9/10',\n",
       " \"Titanic directed by James Cameron presents a fictional love story on the historical setting of the Titanic. The plot is simple, noncomplicated, or not for those who love plots that twist and turn and keep you in suspense. The end of the movie can be figured out within minutes of the start of the film, but the love story is an interesting one, however. Kate Winslett is wonderful as Rose, an aristocratic young lady betrothed by Cal (Billy Zane). Early on the voyage Rose meets Jack (Leonardo DiCaprio), a lower class artist on his way to America after winning his ticket aboard Titanic in a poker game. If he wants something, he goes and gets it unlike the upper class who are so concerned with their social worries. The two fall in love and the audience sees the sinking of the Titanic primarily through their eyes.<br /><br />The movie begins in modern times with the exploration of the wreck by a group searching for treasures, that sunk with the Titanic, which has recently occurred. One of the survivors of the Titanic, Rose DeWitt Bukater, who had heard of the exploration of the wreck on television and is flown to the boat where the search is being led from to tell of what she remembers to help the search. She gets to telling her memory of the one and only voyage of the Titanic. With this, the scene shifts to Southhampton, Ireland where the Titanic set sail from on April 10, 1912 as all the passengers are boarding. After another stop on the Irish coast Titanic went out to see on its maiden voyage across the Atlantic bound for New York. Historically the first few days of the voyage went by uneventful, but the fictional plot of the story is developed during this time as Rose sees the hopeless entrapement of an engagement that she is in to the wealthy Cal Hockley and falls in love with third class passenger, Jack Dawson. Captain Smith alledgedly as shown in the movie was urged by the White Star Line Director to increase the speed of the ship so they would make the newspaper headlines and receive extra publicity by arriving in New York on Thursday night and not on Friday morning as planned. Smith then ordered the fateful decision going against his thirty-two years of experience to stretch the Titanic's legs out to full speed. The Titanic had reports that the waters in the Atlantic they were sailing in were full of icebergs, but they ignored these warnings and proceeded at full speed as shown in the movie. On April 15, 1912 at 11:39, an iceberg was sighted. They attempted to shut off the engines and turn the ship out of the path of the iceberg but there was not enough time and the ship hit the iceberg on the starboard side as depicted in the film. The portrayal of the many small holes in the side of the ship and not one large gash along the side is accurate. The crew of Titanic sent out distress calls and set off distress rockets as shown until 2:18 when the lights finally failed. The lights of the California were spotted six miles away but they failed to realize what was going on and did not respond to Titanic's many pleas for help. The California had tried earlier in the day to warn Titanic of the severe ice that had caused them to stop their trip but Titanic had brushed them off causing the California to turn off its radio and leave the Titanic on its own. The first class women and children were the first as depicted to be put into the twenty lifeboats that were on the ship. Overwhelmingly the third class passengers suffered the most amount of deaths of any class and the crew was hit hard in this tragedy too. The word of White Star Line employees and first class passengers was believed over that of second and third class passengers when authorities were trying to gain information of the sinking. Also, the metal that was used to build the Titanic has been found in recent years under conditions of severe cold, which were experienced the night Titanic sank to be extremely brittle. Overall, the basic plot is very accurate in its portayal of the events and the times at which these events took place on the Titanic.<br /><br />Many of the characters in the story were not real and created simply for the purpose of the movie or as composite characters to represent possible characteristics and ideas of people on the ship. The core group of Rose, Jack, Cal, and Rose's mother all were fictional characters added into the story as they represent different groups of people from the time. Yet many characters such as the Unsinkable Molly Brown; Captain Edward Smith; the ship designer, Thomas Andrew; the White Star Line Representative, Bruce Ismay; and all of the Titanic's officers were real. The maiden voyage was going to be Captain Edward Smith's last voyage anyway as he planned to retire afterwards. He had been a part of the White Star Line since 1880 where he worked his way up to his status as the Millionaire's Captain when the Titanic sunk. The portrayals of the officers is accurate as only four survived the tragedy except for the officer who threatened to kill all of the passengers of the ship with his pistol. He is on record as acting heroicly and was misportrayed to the point that James Cameron apologized and evoked a monument in his honor in the officer's former Canadian hometown. As shown in the movie there was a language problem between the crew and many of the lower-class passengers from non-English speaking nations. In addition, Officer Lowe was the only officer who came back in the lifeboat as depicted. The old people shown in their bed as the water came in their room were based on the Strauss'. Not wanting to leave her husband's side Mrs. Strauss refused to get in her lifeboat and died with her husband on the Titanic. Furthermore, Mr. Goggenheim who was shown sipping his brandy and smoking a cigar reportedly did go out like this dressed in his best. The richest man on the ship, John Jacob Astor, who owned most of Manhattan died nonetheless as well, but his much younger wife was saved in a lifeboat. In addition, Molly Brown was saved and later had medals made up for the crew of the Carpethia that picked the survivors of Titanic up from the water. Her ticket on the Titanic had cost over four-thousand dollars and by the end of her life she ended up broke. All of the interiors of the ship were masterfully replacated down to the last pieces of china and silverware. The gymnasium, which is hardly seen is recreated perfectly with all of the machines reproduced to match those seen in old photographs. The wonderful outfits and costuming were an excellent re-creation of the Post-Victorian era of 1912. The rich at this time practically ruled everything, as the women's suffrage movement had not quite gotten moving yet. Women during this time often married for financial security as Rose was considering doing and normally took a back seast status to their husbands as Cal wished for Rose to do. The rich did not take well to `new money' such as Molly Brown as depicted. Everything of the time was very formal. Women had to be escorted to dinner by a male figure as seen with in the dining scenes. Smoking was not very common among women of the time but holders of cigarettes, which were just coming in at the time were used as seen with Rose in the movie. Men of the time generally smoked cigars not cigarettes. Women were constained physically by their corsets and socially by society. Although James Cameron had no background in historical films he brought in experts of Titanic coupled with two years spent cross-referencing the history of the Titanic and few liberties were taken. The beautiful cinematography and special effects also helped to make the film even more breathtaking.<br /><br />A recognizable message can be seen in the movie Titanic as the people on the ship had about three hours to contemplate their demise. The director, James Cameron, shows the various reactions to this time of crisis in people's lives. Everyone reacts differently and he gets you to think of how you might have reacted had you been in that situation on the Titanic on that fateful night. In addition, this film is a reflection of the 1990's when it was produced as it gives a look into the wreck of the Titanic. Only in the past fifteen years has the site of the actual Titanic been found and explored. This movie was able to give us a deeper look into a disaster that many would not have viewed. However, the moral question of whether people today should be taking treasures from the wreck of an underwater graveyard is posed. There have been attempts to stop treasure seeking missions such as the one portrayed in Titanic but all have failed. As it stands today anyone can make a voyage to the Titanic and take whatever valuables they as portrayed in the film showing the general values of our time on this matter.<br /><br />Technically the film is very well done. To get footage of the wreck at the bottom of the ocean it took twelve dives to get all of the footage needed for the movie. In addition, a special camera had to be created to withstand the intense pressure at the bottom of the ocean. Cameron did not plan on using the probe to go as far inside Titanic as anyone has in the 88 years since the ship sunk but it worked out that this provided an unique perspective into the ship. Furthermore, throughout the film fade ins and outs from the wreck of Titanic to the scene of Titanic during its actual voyage. This shift between the modern scene to the past scene during the voyage works as an excellent transition that makes the story easy to follow in aclear manner. At the very beginning of the movie a septune recreation is used to recreate the scene when the actual people left the European coast on Titanic giving it distinction from the rest of the events of the film.<br /><br />Titanic plays almost like a historical biography and is like a work of art, a true epic. Like most history novels, we know the ending, but it doesn't take away from the wonderful treats that can be found in this picture. Certain aspects of this film are Academy Award material including costuming, sound, cintematography, and editing. If you like interesting characters that will give you an insight into the life of characters in the early 1900's and how they face disaster, then this movie definitely is for you.<br /><br />\",\n",
       " 'Once upon a time there was a director by the name of James. He brought us wonderfully, thrilling science-fiction such as Terminator and Aliens. These movies were the stuff blockbusters were made of and he looked to have a fantastic future ahead of him as the dawn of computer generated special effects landed upon the film industry. Terminator 2 showed gave us glimpses of what was possible in this new era.<br /><br />.......and then it happened...................1997........countless awards..........obscene amounts of money............outlandish barrage of advertising............maximum profit margin........Titanic was here!<br /><br />I have never (ever) been one to jump on the bandwagon and be overly critical for the sake of it, in fact I have often taken the opposite stance from the majority just to get an argument going. Titanic however was a film I only took one single positive out of - that of Kate Winslett being absolutely gorgeous throughout!<br /><br />Quickly - the dialogue was like something out of Beverly Hills 90210, the acting was more wooden than my nephew\\'s tree house, images meant to terrify were actually comical (man falling from ship and hitting propeller), historically false (don\\'t even get me started because there\\'s too much), it had dire theme music (up there with the bodyguard for cheese) and the pointless love story was so tedious, self absorbing and pathetic that it disrespected the plight of everyone else involved (I was glad when he died and disappointed when she did not).<br /><br />It was plainly obvious from the word go that this picture was designed to appeal to MTV watching, bubblegum chewing, boy-with-car chasing, teenage girls (DeCaprio himself resembled something less heroic than the weedy member of a boy band) who would drag their sex-starved boyfriends out for a three and a half hour chick-flick hoping to get lucky later! The worst aspect was that it did not stop at that point. Millions of dumbed down, culture vultures went to see this expensive waste of celluloid because \"it cost so much to produce it must be great\" and \"Steve and Barbara said it was good and they know their movies\". <br /><br />The crowning glory arrived when Titanic swept the boards at the Academy Awards. King James of Hollywood had a serious moment of silence for the victims of the fatal evening on which his three and a half hour farce was based. It looked to me as if he was praying for forgiveness after making a fortune off inaccurately portraying the circumstances that lead to the death of a lot of people. <br /><br />However, if people are stupid and sentimental enough to buy into this kind of rubbish they deserve to get ripped off. Good luck to Hollywood if that is how they want to make money, I\\'d do it if I had those kind of chances in life!<br /><br />It is right up there on my all time worst movies list with other silly, historically false/human interest tripe like \"The Patriot\" and \"Pearl Harbor\".']"
      ]
     },
     "metadata": {},
     "output_type": "display_data"
    },
    {
     "name": "stdout",
     "output_type": "stream",
     "text": [
      "Answer:\n"
     ]
    },
    {
     "data": {
      "text/plain": [
       "'The movie Titanic is a polarizing film that has received mixed reviews. Some people praise it for its captivating love story, stunning special effects, and emotional impact, while others criticize it for its historical inaccuracies, cheesy dialogue, and shallow characters. Despite this, the film has been a massive commercial success and has left a lasting impact on popular culture.'"
      ]
     },
     "execution_count": 99,
     "metadata": {},
     "output_type": "execute_result"
    }
   ],
   "source": [
    "q = \"What can be said about movie Titanic?\"\n",
    "\n",
    "print(f\"Context for '{q}':\")\n",
    "display(find_similar(q, k=15)[\"text\"])\n",
    "\n",
    "print(\"Answer:\")\n",
    "\n",
    "get_completion(q, 15).choices[0].message.content"
   ]
  },
  {
   "cell_type": "markdown",
   "metadata": {},
   "source": [
    "Dla przykładu filmu Titanic wystąpiło duzo próbek danych, które wspominają tę nazwę i przekazują opinię, dzięki czemu model był w stanie wygenerować spójną wypowiedź."
   ]
  },
  {
   "cell_type": "code",
   "execution_count": 100,
   "metadata": {},
   "outputs": [
    {
     "name": "stdout",
     "output_type": "stream",
     "text": [
      "Context for 'What can be said about movie Shawshank Redemption?':\n"
     ]
    },
    {
     "data": {
      "text/plain": [
       "['This was a disappointing film. The people seem to have no substance, the lead protagonist Martin Cahil has zero redemptive values, in fact everyone in it including Jon Voight epitomizes sleeze. I would not recommend this film to anyone. The violence is distasteful, though artfully done. The filming is to black, at least the print i saw fit this category. A disappointment.',\n",
       " \"I am very surprised to see such a high rating for this film, and of the few reviews that there are to be positive. I saw the movie and was pretty dissapointed. I didn't find it very enjoyable at all. It was slow, and lacks the entertainment value. Even the murder scenes are lackluster, with real close-up shots of generic stabbings that don't look good at all. And the supposed great twist ending is really not much, I did see it coming, and then the ending just seemed cliche. This movie may not get much mention, but by the little that it does get, it is overrated. I would not recommend this movie.\",\n",
       " 'This film was the worst film I have ever viewed. It was like a \"homework assignment\" for a film class. It totally misses the mark when it comes to the \"message\" it is TRYING to relay. Characters are over exaggerated, poor acting and as for a plot...well it is utterly ridiculous. The cover shot is what made me think it may be a decent film, the co-actor is handsome and that\\'s about it. Moral of this movie: NEVER JUDGE A MOVIE BY IT\\'S COVER! Save your time, money and energy and make your own home movie and you will be far better off than I. It was painful to watch and quite frankly I am surprised that anyone would spend money to make and distribute it!',\n",
       " 'no comment - stupid movie, acting average or worse... screenplay - no sense at all... SKIP IT!',\n",
       " 'be warned: this movie tells lots of love stories without any coherence.<br /><br />The only intention of this movie seems to be showing love in many different ways.<br /><br />Each story has only a few minutes, so there is no development of characters and nearly no plot. Just an sketchy idea of a plot. The writer tried to build in turning points that aimed to surprise the viewer. However, that just didn\\'t work out because you didn\\'t get to know the characters in before or these \"jokes\" were just silly.<br /><br />This is a movie about love that fails to reach your heart. A dozen times. Or even more, I don\\'t know and I don\\'t care.',\n",
       " \"If you are planning to rent or buy this movie don't. It's the worst thing I have ever seen. I would comment on it more but It has been 10 years since I saw it and have blanked all of it from my mind. Save yourself some time money and well being and stay far far away.\",\n",
       " \"Please avoid this movie at all costs. This is without a doubt, the worst movie I've ever seen. Most movies have at least one redeeming value. This has none. Totally horrible!\",\n",
       " 'This is one of the worst movies I have ever seen! I saw it at the Toronto film festival and totally regret wasting my time. Completely unwatchable with no redeeming qualities whatsoever.<br /><br />Steer clear.',\n",
       " \"I was really disappointed in this movie. Those that voted this thing a 10 have a screw lose. The acting was ok, kinda wooden and cardboard. The ending was sorry. I just didn't care for this at all.<br /><br />No way could I recommend this mess.\",\n",
       " \"IF you are planning to see this movie, please reconsider. I don't usually post my comments about something I've seen on television, but this one was such a waste of my life that I needed to do something productive to get that bad taste out of my mouth. Critiquing this movie would take far too long as there are so many things wrong with it. I will just simply say, please do not ever see this movie. It was a complete waste of my time and it WILL be a waste of yours. Anyone that wrote a positive review of this movie is one of two things; utterly inept, or working for the company that produced it. Again, I guarantee that you will indeed regret seeing this movie!\",\n",
       " 'Don\\'t waste your time on this film. It could have been good, but the ending was one of the lamest I\\'ve ever seen. I seriously have to wonder how the people involved with the making of this film could\\'ve looked at that final scene and thought, \"yeah! now there\\'s an ending!\" and patted themselves on the back about it. To me it seemed more like they just ran out of ideas! They built up the final scenes to have a cool twist, but instead just let the whole build-up fall flat on it\\'s face. When the last shot faded to black and I heard the credit music starting I was in shock - I could not believe what I was seeing and that someone could even call that an ending. The best thing anyone could do with this film is rewrite the end and give it some substance. Seriously, I\\'d really love to get whoever came up with that one in a room, look them in the face and say - WTF??!!!!',\n",
       " 'This is yet another bad movie that you should probably avoid watching. The plot could be a lot \"thicker\" than it actually is and would be better made as a blockbuster type movie.<br /><br />The acting leaves something to be desired, though you can not quite place your finger on what it is.<br /><br />This is one of those that you watch on late night TV, perhaps on USA, simply because you can not get to sleep. Watch it if you want but do not expect too much from it.',\n",
       " \"I had high expectations for this movie and was excited about renting it but was very disappointed when I saw it. It was very poorly written and sort of just fell apart. There wasn't a lot of good anything in this movie except maybe special effects.\",\n",
       " \"People, please don't bother to watch this movie! This movie is bad! It's totally waste of time. I don't see any point here. It's a Stupid film with lousy plot and the acting is poor. I rather get myself beaten than watch this movie ever again.\",\n",
       " \"I'm embarrassed to be writing this review. I say that because those of you reading it will know that I sat through the whole thing and that is embarrassing to admit even to strangers. But I just had to warn those who read the viewer comments on IMDb before they watch a film not to watch this one. It's the least I can do. This is a bad movie! Trust me. The plot is goofy. The acting is amateurish. And the directing, camera work, sets, costumes, etc. are all second rate. Let it go.\"]"
      ]
     },
     "metadata": {},
     "output_type": "display_data"
    },
    {
     "name": "stdout",
     "output_type": "stream",
     "text": [
      "Answer:\n"
     ]
    },
    {
     "data": {
      "text/plain": [
       "'The movie Shawshank Redemption cannot be judged based on the provided context as it is not mentioned or discussed in the reviews.'"
      ]
     },
     "execution_count": 100,
     "metadata": {},
     "output_type": "execute_result"
    }
   ],
   "source": [
    "q = \"What can be said about movie Shawshank Redemption?\"\n",
    "\n",
    "print(f\"Context for '{q}':\")\n",
    "display(find_similar(q, k=15)[\"text\"])\n",
    "\n",
    "print(\"Answer:\")\n",
    "\n",
    "get_completion(q, 15).choices[0].message.content"
   ]
  },
  {
   "cell_type": "markdown",
   "metadata": {},
   "source": [
    "Dla filmu Skazani na Shawshank, nie zostały znalezione żadne opinie, które wymieniają ten film z nazwy. Model w tej sytuacji słusznie zauważył, że z kontekstu nie wynika, o jakich filmach mowa."
   ]
  },
  {
   "cell_type": "code",
   "execution_count": 101,
   "metadata": {},
   "outputs": [
    {
     "name": "stdout",
     "output_type": "stream",
     "text": [
      "Context for 'Which actors deserve praise for their role and in what movie?':\n"
     ]
    },
    {
     "data": {
      "text/plain": [
       "[\"I can't believe they got the actors and actresses of that caliber to do this movie. That's all I've got to say - the movie speaks for itself!!\",\n",
       " \"Nicole Kidman is a wonderful actress and here she's great. I really liked Ben Chaplin in The Thin Red Line and he is very good here too. This is not Great Cinema but I was most entertained. Given most films these days this is High Praise indeed.\",\n",
       " 'There is so much of worth in this movie that it is hard to know where to begin with praise. Let me begin by expressing my admiration for a perfect portrayal by Reese Witherspoon. That her performance stands out in the excellent cast is praise indeed. Robert Mulligan has seldom disappointed those of us who have admired his work. Every frame of The Man in the Moon is evidence of film making at its best.',\n",
       " 'no comment - stupid movie, acting average or worse... screenplay - no sense at all... SKIP IT!',\n",
       " 'Nominated for the oscar \"worst script ever\" in my opinion. There\\'s no decent story, rediculous acting, VERY lousy humor. By every means possible, if you have little self respect please don\\'t waste your time seeing this movie. Although u can see the actors CAN act, it leaves you dumber after watching it. Precious braincells are being killed watching this crap...<br /><br />i warned u<br /><br />DON\\'T SEE THIS MOVIE',\n",
       " \"This film is the worst film I have ever seen. The story line is weak - I couldn't even follow it. The acting is high-schoolish. The sound track is irritating. The attempts at humor are not. The editing is horrible. The credits are even slow - I would be embarrassed to have my name associated with this waste of film. Don't waste your time even thinking about this attempt at acting.\",\n",
       " \"Let me make one thing clear\\x85.for the most part, the mentality of those who run the show in Hollywood frankly p*sses me right off in general and even more specifically in relation to its treatment of much loved, iconic characters from the pages of comic books. Why? Well let's take a typical Hollywood executive board meeting scenario to illustrate shall we\\x85..<br /><br />Executive no.1 'Hey there's lots of dollars to be gleaned from superhero flicks these days.' <br /><br />Executive no.2 'Good point, let's make one with haste then! \\x96 We'll do a lucky dip in a hat and pick out a superhero at random to base a film upon!' (The dip takes place and a famous superheroes name is pulled out) <br /><br />Executive no.1 'Great! Now who can we get to play the part?' <br /><br />Executive no.2 'Who's a big box office star at the moment?' <br /><br />Executive no.1 '*name of big actor* is the in thing this week.' <br /><br />Executive no.2 'But does he really suit the role? I mean he doesn't resemble the character whatsoever.' <br /><br />Executive no.1 'Who cares?! He's a big name; We'll make the film with him in it anyway.' <br /><br />Executive no.2 'You're quite right! And besides we'll fill the entire film so chock full of glitzy special effects to appease the moronic masses that no one will ever question it anyway!'<br /><br />The above scenario clearly illustrates one of the reasons I generally loath most modern superhero movies. All style, no substance and simply pathetic casting of the iconic leads. Of course to be equitable, there are exceptions to the above rule; when Hollywood does get it right \\x96 take the casting of the original (and still easily the best!) Superman; Christopher Reeve and more recently Patrick Stewart and Sir Ian McKellen in the X-Men films.<br /><br />But back to the general negative traits displayed by Hollywood today\\x85..wouldn't it be wonderful if our studio executives were to ALWAYS choose actors who actually suited the roles? Well in this less than ideal world, one filmmaker does just this believe it or not, by casting actors based upon their genuine resemblance to their comic book counterparts. His name is Sandy Collora. Sadly (but typically) Hollywood has not as of yet allowed Collora to direct a full length film but luckily for us, he has given us tantalizing glimpses of what the finished outcome would likely look like in the form of two (as of yet) famous super hero short features. One is the superb Batman:Dead End and the other is this mock trailer for an entirely fictitious film called Worlds Finest.<br /><br />Well, let's not mince our words here \\x96 this is absolutely awesome stuff!<br /><br />The casting of Mr. Universe winner and male model Michael O'Hearn, (who looked similarly awesome but was utterly wasted in the lackluster Barbarian) makes for the most perfect choice to play the iconic man of steel. In fact, in terms of physical resemblance, there has undoubtedly never been a closer approximation to the comic character.<br /><br />Added to this Clark Bartram is back fresh from his splendid portrayal as the Dark Knight in Batman:Dead End; Again, yet another hugely judicious piece of casting!<br /><br />What can I say? \\x96 If only this was indeed a real, full length film! Hollywood studio executives \\x96 take note! THIS is how it should be done!<br /><br />As a final note, I am once again intrigued by the vastly split reactions this short film has evoked from fans. Tellingly, the most acerbic and vehemently adverse reactions against it clearly come once more (as similarly with Batman: Dead End) from a younger, less cinematically experienced audience; a fact betrayed by their somewhat grammatically primitive rants and liberal usage of base diction. Such an unfortunate state of closed mindedness is indeed a sad phenomenon albeit one that our aforementioned studio executives in Hollywood, will no doubt derive great satisfaction from. After all, these very same misguided individuals are in all probability the exact same sort of CGI addicted, popcorn stuffing imbeciles that revel in the majority of crap that Hollywood churns out by the deluge these days.\",\n",
       " 'Eddie Murphy for best supporting actor??? What an insult to Alan Arkin and Djimon Hounsou. <br /><br />Jamie Foxx (who can act) walks through this film like a zombie. <br /><br />Beyonce ??? That was acting??? <br /><br />This movie pales in comparison to CHICAGO or just about any other recent musical. <br /><br />If it were not for the great singing and performance of Jennifer Hudson I would have given this a ZERO.<br /><br />And no I never saw the stage play so I am not making the typical Broadway vs. Hollywood rap.',\n",
       " \"Jim Carrey shines in this beautiful movie. This is now one of my favorite movies. I read all about the making and I thought it was incredible how the did it. I can't wait till this comes out on DVD. I saw this in theaters so many times, I can't even count how times I've seen it.\",\n",
       " 'Considering the big name cast and lavish production I expected a lot more of this film. The acting for the most part is great, although the story they have to work with is mediocre at best. However the film still warrants watching because of the acting and the stars and some and up and coming young talent.',\n",
       " \"I can't say much about this film. I think it speaks for itself (as do the current ratings on here). I rented this about two years ago and I totally regretted it. I even /tried/ to like it by watching it twice, but I just couldn't. I can safely say that I have absolutely no desire to see this waste of time ever, ever again. And I'm not one to trash a movie, but I truly believe this was awful. It wasn't even funny in the slightest. The only bits I enjoyed were the few scenes with Christopher Walken in them. I think this film ruined both Jack Black and Ben Stiller for me. All I can think of when I see one of their films now-a-days is this terrible movie, and it reminds me not to waste my money. Amy Poehler is so very annoying, too.<br /><br />Overall, well, I think you get my point. The stars are for Walken, by the way.\",\n",
       " 'This movie is very good. The screenplay is enchanting. But Meryl Streep is most impressive. Her performance is excellent. She brings me to go into the heart of her role.',\n",
       " \"When I was a kid of 8, I always watched movies and television that i wasn't supposed to, and this was one of them. <br /><br />It's one of my favorite movies of all time, and it has to be the funniest movie I have ever seen in my life, the acting is excellent, they Don't Make Comedies Like This Anymore these days (movies that are ACTUALLY funny and make you laugh without resorting to excrement or some type of vomit-inducing body fluid as in those retarded Judd Apatow movies starring unfunny non-actors like Seth Rogen, barf).<br /><br />This movie is a classic with actors who can actually act, and deserve all the accolades.\",\n",
       " 'Suffice it to say that this substandard B has nothing to save it - not an interesting plot or even one tolerably decent actor. Josh Leonard of Blair Witch fame does little to help matters. Do yourself a favor and leave this one on the shelf at your local video store.',\n",
       " \"I was really disappointed in this movie. Those that voted this thing a 10 have a screw lose. The acting was ok, kinda wooden and cardboard. The ending was sorry. I just didn't care for this at all.<br /><br />No way could I recommend this mess.\"]"
      ]
     },
     "metadata": {},
     "output_type": "display_data"
    },
    {
     "name": "stdout",
     "output_type": "stream",
     "text": [
      "Answer:\n"
     ]
    },
    {
     "data": {
      "text/plain": [
       "'Reese Witherspoon deserves praise for her role in \"The Man in the Moon\" and Nicole Kidman and Ben Chaplin deserve praise for their roles in the same movie.'"
      ]
     },
     "execution_count": 101,
     "metadata": {},
     "output_type": "execute_result"
    }
   ],
   "source": [
    "q = \"Which actors deserve praise for their role and in what movie?\"\n",
    "\n",
    "print(f\"Context for '{q}':\")\n",
    "display(find_similar(q, k=15)[\"text\"])\n",
    "\n",
    "print(\"Answer:\")\n",
    "\n",
    "get_completion(q, 15).choices[0].message.content"
   ]
  },
  {
   "cell_type": "markdown",
   "metadata": {},
   "source": [
    "Przykład halucynacji: o ile Reese Witherspoon faktycznie wystąpiła w \"The Man in the Moon\" i w kontekście znajduje się pozytywna opinia jej aktorstwa, tak pozostali aktorzy występują w innych opiniach, gdzie nawet wspomniane są nazwy innych filmów."
   ]
  }
 ],
 "metadata": {
  "kernelspec": {
   "display_name": "kernel-venv-3.11",
   "language": "python",
   "name": "kernel-venv-3.11"
  },
  "language_info": {
   "codemirror_mode": {
    "name": "ipython",
    "version": 3
   },
   "file_extension": ".py",
   "mimetype": "text/x-python",
   "name": "python",
   "nbconvert_exporter": "python",
   "pygments_lexer": "ipython3",
   "version": "3.11.5"
  }
 },
 "nbformat": 4,
 "nbformat_minor": 2
}
